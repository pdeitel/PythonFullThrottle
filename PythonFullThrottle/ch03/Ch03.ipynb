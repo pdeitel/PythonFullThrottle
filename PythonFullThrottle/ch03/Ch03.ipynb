{
 "cells": [
  {
   "cell_type": "code",
   "execution_count": null,
   "metadata": {
    "jupyter": {
     "source_hidden": true
    },
    "tags": []
   },
   "outputs": [],
   "source": [
    "%%html\n",
    "<!-- CSS settings for this notbook -->\n",
    "<style>\n",
    "    h1 {color:#03A}\n",
    "    h2 {color:purple}\n",
    "    h3 {color:#0099ff}\n",
    "    hr {    \n",
    "        border: 0;\n",
    "        height: 3px;\n",
    "        background: #333;\n",
    "        background-image: linear-gradient(to right, #ccc, black, #ccc);\n",
    "    }\n",
    "</style>"
   ]
  },
  {
   "cell_type": "markdown",
   "metadata": {
    "tags": []
   },
   "source": [
    "&copy; 2025 by Pearson Education, Inc. All Rights Reserved. The content in this notebook is based on the textbook [**Intro Python for Computer Science and Data Science**](https://amzn.to/2YU0QTJ) and our professional book [**Python for Programmers**](https://amzn.to/2VvdnxE) — Please do not purchase both. The professional book is a subset of the textbook."
   ]
  },
  {
   "cell_type": "markdown",
   "metadata": {},
   "source": [
    "### Python Fundamentals LiveLessons Videos\n",
    "* For a detailed presentation of the content in this notebook see **[Lesson 3](https://learning.oreilly.com/videos/python-fundamentals/9780135917411/9780135917411-PFLL_Lesson03_00)** on O'Reilly Online Learning"
   ]
  },
  {
   "cell_type": "markdown",
   "metadata": {},
   "source": [
    "# 3. Control Statements"
   ]
  },
  {
   "cell_type": "markdown",
   "metadata": {
    "tags": []
   },
   "source": [
    "# 3.1 Introduction\n",
    "* `if`, `if`…`else` and `if`…`elif`…`else`.\n",
    "* `match`…`case` \n",
    "* `while` and `for` loops.\n",
    "* Built-in function `range` for integer ranges.\n",
    "* Augmented assignments.\n",
    "* `Decimal` type for precise monetary calculations.\n",
    "* Boolean operators `and`, `or` and `not`."
   ]
  },
  {
   "cell_type": "markdown",
   "metadata": {},
   "source": [
    "### Keywords\n",
    "| &nbsp;&nbsp;&nbsp;&nbsp;&nbsp;&nbsp;&nbsp;&nbsp; | &nbsp;&nbsp;&nbsp;&nbsp;&nbsp;&nbsp;&nbsp;&nbsp; | &nbsp;&nbsp;&nbsp;&nbsp;&nbsp;&nbsp;&nbsp;&nbsp; | &nbsp;&nbsp;&nbsp;&nbsp;&nbsp;&nbsp;&nbsp;&nbsp; | &nbsp;&nbsp;&nbsp;&nbsp;&nbsp;&nbsp;&nbsp;&nbsp; | &nbsp;&nbsp;&nbsp;&nbsp;&nbsp;&nbsp;&nbsp;&nbsp; | &nbsp;&nbsp;&nbsp;&nbsp;&nbsp;&nbsp;&nbsp;&nbsp; |\n",
    "| :------ | :------ | :------ | :------ | :------ | :------ | :------ | \n",
    "| `and` | `as` | `assert` | `async` | `await` | `break` |`case` | \n",
    "| `class` | `continue` | `def` | `del` | `elif` | `else` | `except` | \n",
    "| **`False`** | `finally` | `for` | `from` | `global` | `if` | `import` | \n",
    "| `in` | `is` | `lambda` | `match` | **`None`** | `nonlocal` | `not` | \n",
    "| `or` | `pass`| `raise` | `return` | **`True`** | `try` | `while` | \n",
    "| `with` | `yield` |\n"
   ]
  },
  {
   "cell_type": "markdown",
   "metadata": {},
   "source": [
    "# 3.3 `if` Statement"
   ]
  },
  {
   "cell_type": "code",
   "execution_count": null,
   "metadata": {},
   "outputs": [],
   "source": [
    "grade = 85"
   ]
  },
  {
   "cell_type": "code",
   "execution_count": null,
   "metadata": {},
   "outputs": [],
   "source": [
    "grade"
   ]
  },
  {
   "cell_type": "code",
   "execution_count": null,
   "metadata": {},
   "outputs": [],
   "source": [
    "if grade >= 60: \n",
    "    print('Passed')  # Python convention: 4 space indents"
   ]
  },
  {
   "cell_type": "markdown",
   "metadata": {},
   "source": [
    "### Suite Indentation Is Required"
   ]
  },
  {
   "cell_type": "code",
   "execution_count": null,
   "metadata": {
    "scrolled": true
   },
   "outputs": [],
   "source": [
    "if grade >= 60:\n",
    "print('Passed')  # statement is not indented properly"
   ]
  },
  {
   "cell_type": "markdown",
   "metadata": {},
   "source": [
    "### In a Suite, Indentation Must Be Consistent"
   ]
  },
  {
   "cell_type": "code",
   "execution_count": null,
   "metadata": {
    "scrolled": true
   },
   "outputs": [],
   "source": [
    "if grade >= 60:\n",
    "    print('Passed')  # indented 4 spaces\n",
    "  print('Good job!')  # incorrectly indented only two spaces"
   ]
  },
  {
   "cell_type": "markdown",
   "metadata": {},
   "source": [
    "### Every Expression Can Be Interpreted as `True` or `False`\n",
    "* Nonzero is `True` \n",
    "* Zero is `False`.\n",
    "* Empty strings (and other collections) are `False`."
   ]
  },
  {
   "cell_type": "markdown",
   "metadata": {},
   "source": [
    "# 3.4 `if`…`else` and `if`…`elif`…`else` Statements"
   ]
  },
  {
   "cell_type": "code",
   "execution_count": null,
   "metadata": {},
   "outputs": [],
   "source": [
    "grade = 75"
   ]
  },
  {
   "cell_type": "code",
   "execution_count": null,
   "metadata": {},
   "outputs": [],
   "source": [
    "if grade >= 60: \n",
    "    print('Passed')\n",
    "else:\n",
    "    print('Failed')"
   ]
  },
  {
   "cell_type": "code",
   "execution_count": null,
   "metadata": {},
   "outputs": [],
   "source": [
    "grade = 57"
   ]
  },
  {
   "cell_type": "code",
   "execution_count": null,
   "metadata": {},
   "outputs": [],
   "source": [
    "if grade >= 60: \n",
    "    print('Passed')\n",
    "else:\n",
    "    print('Failed')"
   ]
  },
  {
   "cell_type": "markdown",
   "metadata": {},
   "source": [
    "### Shorthand `if`…`else` Via Conditional Expressions"
   ]
  },
  {
   "cell_type": "code",
   "execution_count": null,
   "metadata": {},
   "outputs": [],
   "source": [
    "grade = 57"
   ]
  },
  {
   "cell_type": "code",
   "execution_count": null,
   "metadata": {},
   "outputs": [],
   "source": [
    "# ?: operator in most C-based languages\n",
    "'Passed' if grade >= 60 else 'Failed'"
   ]
  },
  {
   "cell_type": "markdown",
   "metadata": {},
   "source": [
    "### `if`…`elif`…`else` Statement"
   ]
  },
  {
   "cell_type": "code",
   "execution_count": null,
   "metadata": {},
   "outputs": [],
   "source": [
    "grade = 77"
   ]
  },
  {
   "cell_type": "code",
   "execution_count": null,
   "metadata": {},
   "outputs": [],
   "source": [
    "if grade >= 90:\n",
    "    print('A')\n",
    "elif grade >= 80:\n",
    "    print('B')\n",
    "elif grade >= 70:\n",
    "    print('C')\n",
    "elif grade >= 60:\n",
    "    print('D')\n",
    "else:\n",
    "    print('F')"
   ]
  },
  {
   "cell_type": "markdown",
   "metadata": {},
   "source": [
    "# NEW: Assignment Expressions—The `:=` Walrus Operator \n",
    "> **Python 3.8**\n",
    "> PEP 572, Assignment Expressions https://peps.python.org/pep-0572/\n",
    "\n",
    "* Named “Walrus operator” because it resembles the eyes and tusks of a walrus\n",
    "* For cases in which you’d store a value in a variable, then use that variable in a control statement’s condition and possibly its body"
   ]
  },
  {
   "cell_type": "markdown",
   "metadata": {},
   "source": [
    "```python\n",
    "grade = int(input('Enter grade (0-100): '))\n",
    "\n",
    "if grade >= 60:\n",
    "    print(f'{grade} is a passing grade')\n",
    "else:\n",
    "    print(f'{grade} is a failing grade')\n",
    "```"
   ]
  },
  {
   "cell_type": "markdown",
   "metadata": {},
   "source": [
    "* Can perform the assignment directly in condition via `:=` assignment expression\n",
    "* Variable to left of `:=` may be used throughout control statement"
   ]
  },
  {
   "cell_type": "code",
   "execution_count": null,
   "metadata": {},
   "outputs": [],
   "source": [
    "if (grade := int(input('Enter grade (0-100): '))) >= 60:\n",
    "    print(f'{grade} is a passing grade')\n",
    "else:\n",
    "    print(f'{grade} is a failing grade')"
   ]
  },
  {
   "cell_type": "code",
   "execution_count": null,
   "metadata": {},
   "outputs": [],
   "source": [
    "grade"
   ]
  },
  {
   "cell_type": "markdown",
   "metadata": {},
   "source": [
    "# 3.5 `while` Statement that Finds the First Power of 3 Larger Than 50"
   ]
  },
  {
   "cell_type": "code",
   "execution_count": null,
   "metadata": {},
   "outputs": [],
   "source": [
    "product = 3"
   ]
  },
  {
   "cell_type": "code",
   "execution_count": null,
   "metadata": {},
   "outputs": [],
   "source": [
    "while product <= 50:\n",
    "    product = product * 3 "
   ]
  },
  {
   "cell_type": "code",
   "execution_count": null,
   "metadata": {
    "scrolled": true
   },
   "outputs": [],
   "source": [
    "product"
   ]
  },
  {
   "cell_type": "markdown",
   "metadata": {},
   "source": [
    "# 3.6 `for` Statement Repeats Its Suite for Each Item in a **Sequence of Items**\n",
    "* A string is a sequence of individual characters."
   ]
  },
  {
   "cell_type": "code",
   "execution_count": null,
   "metadata": {},
   "outputs": [],
   "source": [
    "for character in 'Programming':  # character is the \"target\" variable\n",
    "    print(character, end='  ')  # end keyword argument changes default \\n output"
   ]
  },
  {
   "cell_type": "markdown",
   "metadata": {
    "tags": []
   },
   "source": [
    "### `print`’s `sep` (separator) Keyword Argument Specifies the String to Display Between `print`’s Arugments\n",
    "* To remove the default spaces, use `sep=''` (that is, an empty string)."
   ]
  },
  {
   "cell_type": "code",
   "execution_count": null,
   "metadata": {},
   "outputs": [],
   "source": [
    "print(10, 20, 30, sep=', ')"
   ]
  },
  {
   "cell_type": "markdown",
   "metadata": {},
   "source": [
    "## 3.6.1 Iterables, Lists and Iterators\n",
    "* The sequence to the right of the `for` statement’s `in` keyword must be an **iterable**. \n",
    "* One of the most common iterable sequence types is a **`list`**. "
   ]
  },
  {
   "cell_type": "code",
   "execution_count": null,
   "metadata": {},
   "outputs": [],
   "source": [
    "total = 0"
   ]
  },
  {
   "cell_type": "code",
   "execution_count": null,
   "metadata": {},
   "outputs": [],
   "source": [
    "for number in [1, 2, 3, 4, 5]:  # iterate through the list [1, 2, 3, 4, 5]\n",
    "    total += number # total = total + number"
   ]
  },
  {
   "cell_type": "code",
   "execution_count": null,
   "metadata": {},
   "outputs": [],
   "source": [
    "total"
   ]
  },
  {
   "cell_type": "markdown",
   "metadata": {},
   "source": [
    "* Let Python do it"
   ]
  },
  {
   "cell_type": "code",
   "execution_count": null,
   "metadata": {},
   "outputs": [],
   "source": [
    "sum([1, 2, 3, 4, 5])"
   ]
  },
  {
   "cell_type": "markdown",
   "metadata": {},
   "source": [
    "## 3.6.2 Built-In `range` Function Creates a Sequence of Consecutive Integers"
   ]
  },
  {
   "cell_type": "code",
   "execution_count": null,
   "metadata": {},
   "outputs": [],
   "source": [
    "for counter in range(10):  # 0-9\n",
    "    print(counter, end='  ')"
   ]
  },
  {
   "cell_type": "markdown",
   "metadata": {},
   "source": [
    "# NEW: `match`…`case`\n",
    "* **Python 3.10**\n",
    "* PEP 634, Structural Pattern Matching: Specification\n",
    "> https://www.python.org/dev/peps/pep-0634/\n",
    "* PEP 635, Structural Pattern Matching: Motivation and Rationale\n",
    "> https://www.python.org/dev/peps/pep-0635/\n",
    "* PEP 636, Structural Pattern Matching: Tutorial\n",
    "> https://www.python.org/dev/peps/pep-0636/"
   ]
  },
  {
   "cell_type": "markdown",
   "metadata": {},
   "source": [
    "## Can Be Used Like `switch` or `select` Statement in Other Languages"
   ]
  },
  {
   "cell_type": "code",
   "execution_count": null,
   "metadata": {},
   "outputs": [],
   "source": [
    "grade = 'C'"
   ]
  },
  {
   "cell_type": "code",
   "execution_count": null,
   "metadata": {},
   "outputs": [],
   "source": [
    "match grade:\n",
    "    case 'A':\n",
    "        print('grade is A')\n",
    "    case 'B':\n",
    "        print('grade is B')\n",
    "    case 'C':\n",
    "        print('grade is C')\n",
    "    case 'D':\n",
    "        print('grade is D')\n",
    "    case _: # default\n",
    "        print('grade is F')"
   ]
  },
  {
   "cell_type": "markdown",
   "metadata": {},
   "source": [
    "## Also Can Match Patterns With and Without Guard Conditions\n",
    "* See Python Fundamentals **What's New in Python** lesson at https://learning.oreilly.com/course/python-fundamentals/9780135917411/\n",
    "    * Presented with examples related to Lesson 4"
   ]
  },
  {
   "cell_type": "markdown",
   "metadata": {},
   "source": [
    "# 3.7 Augmented Assignments Abbreviate Assignment Expressions"
   ]
  },
  {
   "cell_type": "markdown",
   "metadata": {},
   "source": [
    "In the table, assume: \n",
    "```python\n",
    "c = 3, d = 5, e = 4, f = 2, g = 9, h = 12\n",
    "```\n",
    "\n",
    "| Augmented assignment | Sample expression | Explanation | Assigns |\n",
    "| :- |  :- | :- | :- |\n",
    "| `+=` | `c` `+=` `7` | `c` `=` `c` `+` `7` | `10` to `c` |\n",
    "| `-=` | `d` `-=` `4` | `d` `=` `d` `-` `4` | `1` to `d` |\n",
    "| `*=` | `e` `*=` `5` | `e` `=` `e` `*` `5` | `20` to `e` |\n",
    "| `**=` | `f` `**=` `3` | `f` `=` `f` `**` `3` | `8` to `f` |\n",
    "| `/=` | `g` `/=` `2` | `g` `=` `g` `/` `2` | `4.5` to `g` |\n",
    "| `//=` | `g` `//=` `2` | `g` `=` `g` `//` `2` | `4` to `g` |\n",
    "| `%=` | `h` `%=` `9` | `h` `=` `h` `%` `9` | `3` to `h` |"
   ]
  },
  {
   "cell_type": "markdown",
   "metadata": {},
   "source": [
    "# 3.8 Sequence-Controlled Iteration; Formatted Strings\n",
    "* Can run the script at the command line with the **`ipython` command**.\n",
    "> `ipython class_average.py`\n",
    "\n",
    "* Can run the script in Jupyter command with the **`run` command**.\n",
    "> `run class_average.py`\n",
    "\n",
    "```python\n",
    "# class_average.py\n",
    "\"\"\"Class average program with sequence-controlled iteration.\"\"\"\n",
    "\n",
    "# initialization phase\n",
    "total = 0  # sum of grades\n",
    "grade_counter = 0  \n",
    "grades = [98, 76, 71, 87, 83, 90, 57, 79, 82, 94]  # list of 10 grades\n",
    "\n",
    "# processing phase\n",
    "for grade in grades:  \n",
    "    total += grade  # add current grade to the running total\n",
    "    grade_counter += 1  # indicate that one more grade was processed\n",
    "\n",
    "# termination phase\n",
    "average = total / grade_counter\n",
    "print(f'Class average is {average}')\n",
    "```"
   ]
  },
  {
   "cell_type": "markdown",
   "metadata": {},
   "source": [
    "* Run script in Jupyter."
   ]
  },
  {
   "cell_type": "code",
   "execution_count": null,
   "metadata": {
    "tags": []
   },
   "outputs": [],
   "source": [
    "run class_average.py"
   ]
  },
  {
   "cell_type": "markdown",
   "metadata": {},
   "source": [
    "### Introduction to Formatted Strings\n",
    "* **f-strings** (short for **formatted strings**) were introduced in Python 3.6.\n",
    "* The letter **`f`** before a string’s opening quote indicates it’s an f-string. \n",
    "* You specify where to insert **replacement text** by using _placeholders_ delimited by curly braces (`{` and `}`). "
   ]
  },
  {
   "cell_type": "markdown",
   "metadata": {},
   "source": [
    "# 3.10 Built-In Function `range`: A Deeper Look\n",
    "### Function `range`’s Two-Argument Version "
   ]
  },
  {
   "cell_type": "code",
   "execution_count": null,
   "metadata": {},
   "outputs": [],
   "source": [
    "for number in range(5, 10):  # 5-9\n",
    "    print(number, end='  ')"
   ]
  },
  {
   "cell_type": "markdown",
   "metadata": {},
   "source": [
    "### Function `range`’s Three-Argument Version Specifies a Step to Increment By"
   ]
  },
  {
   "cell_type": "code",
   "execution_count": null,
   "metadata": {},
   "outputs": [],
   "source": [
    "for number in range(0, 10, 2):  # 2 is the step; 0, 2, 4, 6, 8\n",
    "    print(number, end='  ')"
   ]
  },
  {
   "cell_type": "markdown",
   "metadata": {},
   "source": [
    "### Function `range`’s Three-Argument Version with a Negative Step Counts Down"
   ]
  },
  {
   "cell_type": "code",
   "execution_count": null,
   "metadata": {},
   "outputs": [],
   "source": [
    "for number in range(10, 0, -2):  # 10, 8, 6, 4, 2\n",
    "    print(number, end='  ')"
   ]
  },
  {
   "cell_type": "markdown",
   "metadata": {},
   "source": [
    "# 3.11 Using Type `Decimal` for Precise Monetary Amounts\n",
    "* Many floating-point values cannot be represented precisely in binary."
   ]
  },
  {
   "cell_type": "markdown",
   "metadata": {},
   "source": [
    "### `Decimal` Arithmetic Supports the Arithmetic Operators and Augmented Assignments\n",
    "* You may perform arithmetic **between `Decimal`s and `Decimal`s** or **`Decimal`s and integers**, but _not_ `Decimal`s and floating-point numbers."
   ]
  },
  {
   "cell_type": "code",
   "execution_count": null,
   "metadata": {},
   "outputs": [],
   "source": [
    "from decimal import Decimal"
   ]
  },
  {
   "cell_type": "code",
   "execution_count": null,
   "metadata": {},
   "outputs": [],
   "source": [
    "x = Decimal('10.5')  # typically create from strings for accuracy"
   ]
  },
  {
   "cell_type": "code",
   "execution_count": null,
   "metadata": {},
   "outputs": [],
   "source": [
    "y = Decimal(2)"
   ]
  },
  {
   "cell_type": "code",
   "execution_count": null,
   "metadata": {},
   "outputs": [],
   "source": [
    "x + y "
   ]
  },
  {
   "cell_type": "code",
   "execution_count": null,
   "metadata": {},
   "outputs": [],
   "source": [
    "print(x + y)"
   ]
  },
  {
   "cell_type": "code",
   "execution_count": null,
   "metadata": {},
   "outputs": [],
   "source": [
    "x"
   ]
  },
  {
   "cell_type": "code",
   "execution_count": null,
   "metadata": {},
   "outputs": [],
   "source": [
    "type(x)"
   ]
  },
  {
   "cell_type": "markdown",
   "metadata": {},
   "source": [
    "### Calculating Compound Interest with `Decimal` Values\n",
    "* Invest $1000 in a savings account yielding 5% interest. \n",
    "* Leave all interest on deposit.\n",
    "* Calculate and display the amount of money at the end of each year for 10 years. \n",
    "\n",
    "> <em>amount</em> = <em>principal</em>(1 + <em>rate</em>)<sup><em>year</em></sup> \n",
    "\n",
    "Typically create `Decimal`s from strings or integers for accuracy"
   ]
  },
  {
   "cell_type": "code",
   "execution_count": null,
   "metadata": {},
   "outputs": [],
   "source": [
    "principal = Decimal('1000.00') "
   ]
  },
  {
   "cell_type": "code",
   "execution_count": null,
   "metadata": {},
   "outputs": [],
   "source": [
    "principal"
   ]
  },
  {
   "cell_type": "code",
   "execution_count": null,
   "metadata": {},
   "outputs": [],
   "source": [
    "rate = Decimal('0.05')"
   ]
  },
  {
   "cell_type": "code",
   "execution_count": null,
   "metadata": {},
   "outputs": [],
   "source": [
    "rate"
   ]
  },
  {
   "cell_type": "code",
   "execution_count": null,
   "metadata": {},
   "outputs": [],
   "source": [
    "for year in range(1, 11):\n",
    "    amount = principal * (1 + rate) ** year \n",
    "    print(f'{year:>2}{amount:>10.2f}')"
   ]
  },
  {
   "cell_type": "markdown",
   "metadata": {},
   "source": [
    "### Formatting the Year and Amount on Deposit\n",
    "* `{year:>2}`&mdash;**right align (`>`)** in a field of width `2`. "
   ]
  },
  {
   "cell_type": "markdown",
   "metadata": {},
   "source": [
    "![The numbers 1 and 10 each formatted in a field width of 2](./ch03images/formatting.png \"The numbers 1 and 10 each formatted in a field width of 2\")"
   ]
  },
  {
   "cell_type": "markdown",
   "metadata": {},
   "source": [
    "* **Left align** with <. \n",
    "* `{amount:>10.2f}`&mdash;floating-point number (`f`) right aligned (`>`) in a field of width `10` with two digits to the right of the decimal point (`.2`). "
   ]
  },
  {
   "cell_type": "markdown",
   "metadata": {},
   "source": [
    "![1050.0 formatted with The format specifier 10.2f](./ch03images/formatting2.png \"1050.0 formatted with The format specifier 10.2f\")"
   ]
  },
  {
   "cell_type": "markdown",
   "metadata": {},
   "source": [
    "# 3.12 `break` and `continue` Statements\n",
    "* Executing a **`break`** statement in a `while` or `for` immediately exits that statement.\n",
    "* Executing a **`continue`** statement in a `while` or `for` loop skips the remainder of the loop’s suite. \n",
    "    * In a `while`, the condition is then tested to determine whether the loop should continue executing. \n",
    "    * In a `for`, the loop processes the next item in the sequence (if any)."
   ]
  },
  {
   "cell_type": "markdown",
   "metadata": {},
   "source": [
    "# 3.13 Boolean Operators and, or and not \n",
    "\n",
    "### Boolean Operator `and`"
   ]
  },
  {
   "cell_type": "code",
   "execution_count": null,
   "metadata": {
    "tags": []
   },
   "outputs": [],
   "source": [
    "gender = 'Female'"
   ]
  },
  {
   "cell_type": "code",
   "execution_count": null,
   "metadata": {},
   "outputs": [],
   "source": [
    "age = 70"
   ]
  },
  {
   "cell_type": "code",
   "execution_count": null,
   "metadata": {},
   "outputs": [],
   "source": [
    "if gender == 'Female' and age >= 65:\n",
    "    print('Senior female')"
   ]
  },
  {
   "cell_type": "markdown",
   "metadata": {},
   "source": [
    "### Boolean Operator `or`"
   ]
  },
  {
   "cell_type": "code",
   "execution_count": null,
   "metadata": {
    "tags": []
   },
   "outputs": [],
   "source": [
    "semester_average = 83"
   ]
  },
  {
   "cell_type": "code",
   "execution_count": null,
   "metadata": {},
   "outputs": [],
   "source": [
    "final_exam = 95"
   ]
  },
  {
   "cell_type": "code",
   "execution_count": null,
   "metadata": {},
   "outputs": [],
   "source": [
    "if semester_average >= 90 or final_exam >= 90:\n",
    "    print('Student gets an A')"
   ]
  },
  {
   "cell_type": "markdown",
   "metadata": {},
   "source": [
    "### Boolean Operator `not` "
   ]
  },
  {
   "cell_type": "code",
   "execution_count": null,
   "metadata": {},
   "outputs": [],
   "source": [
    "some_expression = True"
   ]
  },
  {
   "cell_type": "code",
   "execution_count": null,
   "metadata": {
    "scrolled": true
   },
   "outputs": [],
   "source": [
    "not some_expression"
   ]
  },
  {
   "cell_type": "code",
   "execution_count": null,
   "metadata": {},
   "outputs": [],
   "source": [
    "some_expression = False"
   ]
  },
  {
   "cell_type": "code",
   "execution_count": null,
   "metadata": {},
   "outputs": [],
   "source": [
    "not some_expression"
   ]
  },
  {
   "cell_type": "markdown",
   "metadata": {},
   "source": [
    "# More Info \n",
    "* See Lesson 3 in [**Python Fundamentals LiveLessons** here on O'Reilly Online Learning](https://learning.oreilly.com/videos/python-fundamentals/9780135917411)\n",
    "* See Chapter 3 in [**Python for Programmers** on O'Reilly Online Learning](https://learning.oreilly.com/library/view/python-for-programmers/9780135231364/)\n",
    "* Interested in a print book? Check out:\n",
    "\n",
    "| Python for Programmers | Intro to Python for Computer<br>Science and Data Science\n",
    "| :------ | :------\n",
    "| <a href=\"https://amzn.to/2VvdnxE\"><img alt=\"Python for Programmers cover\" src=\"../images/PyFPCover.png\" width=\"150\" border=\"1\"/></a> | <a href=\"https://amzn.to/2LiDCmt\"><img alt=\"Intro to Python for Computer Science and Data Science: Learning to Program with AI, Big Data and the Cloud\" src=\"../images/IntroToPythonCover.png\" width=\"159\" border=\"1\"></a>\n",
    "\n",
    ">Please **do not** purchase both books&mdash;_Python for Programmers_ is a subset of _Intro to Python for Computer Science and Data Science_"
   ]
  },
  {
   "cell_type": "markdown",
   "metadata": {
    "tags": []
   },
   "source": [
    "&copy; 2025 by Pearson Education, Inc. All Rights Reserved. The content in this notebook is based on the textbook [**Intro Python for Computer Science and Data Science**](https://amzn.to/2YU0QTJ) and our professional book [**Python for Programmers**](https://amzn.to/2VvdnxE) — Please do not purchase both. The professional book is a subset of the textbook."
   ]
  }
 ],
 "metadata": {
  "kernelspec": {
   "display_name": "Python 3 (ipykernel)",
   "language": "python",
   "name": "python3"
  },
  "language_info": {
   "codemirror_mode": {
    "name": "ipython",
    "version": 3
   },
   "file_extension": ".py",
   "mimetype": "text/x-python",
   "name": "python",
   "nbconvert_exporter": "python",
   "pygments_lexer": "ipython3",
   "version": "3.12.2"
  }
 },
 "nbformat": 4,
 "nbformat_minor": 4
}
