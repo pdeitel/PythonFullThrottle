{
 "cells": [
  {
   "cell_type": "code",
   "execution_count": null,
   "metadata": {
    "jupyter": {
     "source_hidden": true
    },
    "tags": []
   },
   "outputs": [],
   "source": [
    "%%html\n",
    "<!-- CSS settings for this notbook -->\n",
    "<style>\n",
    "    h1 {color:#03A}\n",
    "    h2 {color:purple}\n",
    "    h3 {color:#0099ff}\n",
    "    hr {    \n",
    "        border: 0;\n",
    "        height: 3px;\n",
    "        background: #333;\n",
    "        background-image: linear-gradient(to right, #ccc, black, #ccc);\n",
    "    }\n",
    "</style>"
   ]
  },
  {
   "cell_type": "markdown",
   "metadata": {
    "tags": []
   },
   "source": [
    "&copy; 2025 by Pearson Education, Inc. All Rights Reserved. The content in this notebook is based on the textbook [**Intro Python for Computer Science and Data Science**](https://amzn.to/2YU0QTJ) and our professional book [**Python for Programmers**](https://amzn.to/2VvdnxE) — Please do not purchase both. The professional book is a subset of the textbook."
   ]
  },
  {
   "cell_type": "markdown",
   "metadata": {},
   "source": [
    "# 9. Files and Exceptions\n",
    "* Note: Some sections reordered from our book for _Python Full Throttle_ presentation purposes. \n",
    "\n",
    "# 9.1 Introduction\n",
    "* Text files processing.\n",
    "* **IF TIME**: **CSV files**&mdash;common format for machine-learning datasets.\n",
    "* **IF TIME**: Serialize objects into the **JSON data-interchange format**—commonly used to transmit over the Internet—and deserialize JSON into objects.\n",
    "* **`with` statement** for avoiding “resource leaks.”\n",
    "* **`try`...`except`...`else`...`finally` statement** for exception handling.\n",
    "* **`raise` exceptions** to indicate runtime problems."
   ]
  },
  {
   "cell_type": "markdown",
   "metadata": {},
   "source": [
    "# 9.2 Files \n",
    "* Python views a **text file** as a sequence of characters and a **binary file** (for images, videos and more) as a sequence of bytes starting at position 0. "
   ]
  },
  {
   "cell_type": "markdown",
   "metadata": {},
   "source": [
    "![Conceptual view of a file](ch09images/AAEMYSR0.png \"Conceptual view of a file\")"
   ]
  },
  {
   "cell_type": "markdown",
   "metadata": {},
   "source": [
    "### Standard File Objects Like Other C-Based Languages\n",
    "* When a Python program begins execution, it creates three **standard file objects**:\n",
    "    * **`sys.stdin`** — the **standard input file object**\n",
    "    * **`sys.stdout`** — the **standard output file object**, and \n",
    "    * **`sys.stderr`** — the **standard error file object**. "
   ]
  },
  {
   "cell_type": "markdown",
   "metadata": {},
   "source": [
    "## 9.3 Text-File Processing\n",
    "* Python imposes no structure on a file."
   ]
  },
  {
   "cell_type": "markdown",
   "metadata": {},
   "source": [
    "## 9.3.1 Writing to a Text File: Introducing the `with` Statement \n",
    "* For each file you **open**, Python creates a **file object** that you’ll use to interact with the file.\n",
    "* `with` statement \n",
    "    * Acquires a resource and assigns its corresponding object to a variable.\n",
    "    * Allows the application to use the resource via that variable.\n",
    "    * Calls the resource object’s **`close` method** to release the resource."
   ]
  },
  {
   "cell_type": "code",
   "execution_count": null,
   "metadata": {},
   "outputs": [],
   "source": [
    "with open('accounts.txt', mode='w') as accounts:\n",
    "    accounts.write('100 Jones 24.98\\n')\n",
    "    accounts.write('200 Doe 345.67\\n')\n",
    "    accounts.write('300 White 0.00\\n')\n",
    "    accounts.write('400 Stone -42.16\\n')\n",
    "    accounts.write('500 Rich 224.62\\n')"
   ]
  },
  {
   "cell_type": "markdown",
   "metadata": {},
   "source": [
    "* Can also **write to a file with `print`**, which **automatically outputs a `\\n`**, as in\n",
    ">```python\n",
    ">print('100 Jones 24.98', file=accounts)\n",
    ">```"
   ]
  },
  {
   "cell_type": "markdown",
   "metadata": {},
   "source": [
    "### Contents of accounts`.txt` File "
   ]
  },
  {
   "cell_type": "code",
   "execution_count": null,
   "metadata": {},
   "outputs": [],
   "source": [
    "!cat accounts.txt #more"
   ]
  },
  {
   "cell_type": "markdown",
   "metadata": {},
   "source": [
    "## 9.3.2 Reading Data from a Text File\n",
    "* Iterating through a file object, **reads one line at a time from the file** and returns it as a string. "
   ]
  },
  {
   "cell_type": "code",
   "execution_count": null,
   "metadata": {},
   "outputs": [],
   "source": [
    "with open('accounts.txt', mode='r') as accounts:\n",
    "    print(f'{\"Account\":<10}{\"Name\":<10}{\"Balance\":>10}')\n",
    "    for record in accounts:\n",
    "        account, name, balance = record.split()\n",
    "        print(f'{account:<10}{name:<10}{balance:>10}')"
   ]
  },
  {
   "cell_type": "markdown",
   "metadata": {},
   "source": [
    "# 9.5 Serialization with JSON and the Python Standard Library Module `json` \n",
    "* **JSON (JavaScript Object Notation)** is a text-based, human-and-computer-readable, data-interchange format used to represent objects as collections of name–value pairs. \n",
    "* Preferred data format for transmitting objects across platforms. "
   ]
  },
  {
   "cell_type": "markdown",
   "metadata": {
    "tags": []
   },
   "source": [
    "### JSON Data Format Is Similar to Python Dictionaries \n",
    "* Each JSON object contains a comma-separated list of **property names** and **values**, in curly braces.\n",
    "\n",
    "> ```python\n",
    ">{\"account\": 100, \"name\": \"Jones\", \"balance\": 24.98}\n",
    ">```\n",
    "\n",
    "* JSON arrays, like Python lists, are comma-separated values in square brackets.\n",
    "\n",
    "> ```python\n",
    ">[100, 200, 300]\n",
    ">```\n",
    "\n",
    "* Values in JSON objects and arrays can be:\n",
    "    * **strings** in **double quotes**\n",
    "    * **numbers**\n",
    "    * JSON Boolean values **`true`** or **`false`** \n",
    "    * **`null`** (like `None` in Python)\n",
    "    * **arrays**  \n",
    "    * **other JSON objects**"
   ]
  },
  {
   "cell_type": "code",
   "execution_count": null,
   "metadata": {},
   "outputs": [],
   "source": [
    "accounts_dict = {\n",
    "    'accounts': [\n",
    "        {'account': 100, 'name': 'Jones', 'balance': 24.98},\n",
    "        {'account': 200, 'name': 'Doe', 'balance': 345.67}]\n",
    "}"
   ]
  },
  {
   "cell_type": "markdown",
   "metadata": {},
   "source": [
    "### Serializing an Object to JSON with the `json` Module’s **`dump` Function** "
   ]
  },
  {
   "cell_type": "code",
   "execution_count": null,
   "metadata": {},
   "outputs": [],
   "source": [
    "import json"
   ]
  },
  {
   "cell_type": "code",
   "execution_count": null,
   "metadata": {},
   "outputs": [],
   "source": [
    "with open('accounts.json', 'w') as accounts:\n",
    "    json.dump(accounts_dict, accounts)"
   ]
  },
  {
   "cell_type": "code",
   "execution_count": null,
   "metadata": {},
   "outputs": [],
   "source": [
    "!cat accounts.json"
   ]
  },
  {
   "cell_type": "markdown",
   "metadata": {},
   "source": [
    "### Deserializing JSON Text with the `json` Module’s **`load` Function** \n",
    "* Reads entire file and converts the JSON into a Python object. "
   ]
  },
  {
   "cell_type": "code",
   "execution_count": null,
   "metadata": {},
   "outputs": [],
   "source": [
    "with open('accounts.json', 'r') as accounts:\n",
    "    accounts_json = json.load(accounts)"
   ]
  },
  {
   "cell_type": "markdown",
   "metadata": {},
   "source": [
    "### Interacting with the Deserialized Object"
   ]
  },
  {
   "cell_type": "code",
   "execution_count": null,
   "metadata": {},
   "outputs": [],
   "source": [
    "type(accounts_json)"
   ]
  },
  {
   "cell_type": "code",
   "execution_count": null,
   "metadata": {},
   "outputs": [],
   "source": [
    "accounts_json"
   ]
  },
  {
   "cell_type": "code",
   "execution_count": null,
   "metadata": {},
   "outputs": [],
   "source": [
    "accounts_json['accounts']"
   ]
  },
  {
   "cell_type": "code",
   "execution_count": null,
   "metadata": {},
   "outputs": [],
   "source": [
    "accounts_json['accounts'][0]['name']"
   ]
  },
  {
   "cell_type": "code",
   "execution_count": null,
   "metadata": {},
   "outputs": [],
   "source": [
    "accounts_json['accounts'][1]"
   ]
  },
  {
   "cell_type": "markdown",
   "metadata": {},
   "source": [
    "### Pretty Printing JSON Text with the `json` Module’s **`dumps` Function**\n",
    "* Short for “dump string”. \n",
    "* Returns a Python string representation of an object in JSON format. "
   ]
  },
  {
   "cell_type": "code",
   "execution_count": null,
   "metadata": {},
   "outputs": [],
   "source": [
    "with open('accounts.json', 'r') as accounts:\n",
    "    print(json.dumps(json.load(accounts), indent=4))"
   ]
  },
  {
   "cell_type": "markdown",
   "metadata": {},
   "source": [
    "### Serializing/Deserializing Objects of Custom Class Types\n",
    "* Check out the [open source jsons library](https://jsons.readthedocs.io/en/latest/?badge=latest)."
   ]
  },
  {
   "cell_type": "markdown",
   "metadata": {},
   "source": [
    "# 9.12 Working with CSV Files \n",
    "* Datasets are often provided in **CSV (comma-separated values)** format. "
   ]
  },
  {
   "cell_type": "markdown",
   "metadata": {},
   "source": [
    "## 9.12.1 Python Standard Library Module `csv` \n",
    "* Provides functions for working with CSV files. "
   ]
  },
  {
   "cell_type": "markdown",
   "metadata": {
    "tags": []
   },
   "source": [
    "### Writing to a CSV File with the  **`writer` Function**\n",
    "* **Open CSV files with the additional keyword argument `newline=''`** to ensure that **newlines are processed properly** across platforms.\n",
    "* Each call to a `writer`’s **`writerow` method** receives an **iterable** to write as a line of comma-delimited text in the file.\n",
    "* `writerow` delimits values with commas, but you can specify custom delimiters. "
   ]
  },
  {
   "cell_type": "code",
   "execution_count": null,
   "metadata": {},
   "outputs": [],
   "source": [
    "import csv"
   ]
  },
  {
   "cell_type": "code",
   "execution_count": null,
   "metadata": {},
   "outputs": [],
   "source": [
    "with open('accounts.csv', mode='w', newline='') as accounts:\n",
    "    writer = csv.writer(accounts)  # object that writes CSV records\n",
    "    \n",
    "    writer.writerow(['Account', 'Name', 'Balance'])\n",
    "    writer.writerow([100, 'Jones', 24.98])\n",
    "    writer.writerow([200, 'Doe', 345.67])\n",
    "    writer.writerow([300, 'White', 0.00])\n",
    "    writer.writerow([400, 'Stone', -42.16])\n",
    "    writer.writerow([500, 'Rich', 224.62])"
   ]
  },
  {
   "cell_type": "code",
   "execution_count": null,
   "metadata": {},
   "outputs": [],
   "source": [
    "!cat accounts.csv"
   ]
  },
  {
   "cell_type": "markdown",
   "metadata": {},
   "source": [
    "* Multiple `writerow` calls can be replaced with one **`writerows`** call that outputs a **comma-separated list of iterables** (e.g., a list of lists) representing the records."
   ]
  },
  {
   "cell_type": "markdown",
   "metadata": {},
   "source": [
    "### Fields Containing Commas\n",
    "* If you write data that contains commas within a given string, `writerow` encloses that string in double quotes.\n",
    "* The field `'Jones, Sue'` would be written as `\"Jones, Sue\"` and read as a single field on input."
   ]
  },
  {
   "cell_type": "markdown",
   "metadata": {},
   "source": [
    "### Reading from a CSV File with the **`reader`** Function\n",
    "* Returns an object that **reads CSV-format data** from the specified file object. \n",
    "* Can iterate through a `reader` object to read one record at a time. "
   ]
  },
  {
   "cell_type": "code",
   "execution_count": null,
   "metadata": {
    "slideshow": {
     "slide_type": "slide"
    }
   },
   "outputs": [],
   "source": [
    "with open('accounts.csv', 'r', newline='') as accounts:\n",
    "    reader = csv.reader(accounts)\n",
    "\n",
    "    # get the header row and display it\n",
    "    field1, field2, field3 = next(reader) # returns header and advances iterator\n",
    "    print(f'{field1:<10}{field2:<10}{field3:>10}')\n",
    "\n",
    "    # read the records\n",
    "    for record in reader:  \n",
    "        account, name, balance = record\n",
    "        print(f'{account:<10}{name:<10}{balance:>10}')"
   ]
  },
  {
   "cell_type": "markdown",
   "metadata": {},
   "source": [
    "# 9.7 Additional Notes Regarding Files\n",
    "### File-Open Modes\n"
   ]
  },
  {
   "cell_type": "markdown",
   "metadata": {},
   "source": [
    "| Mode | Description |\n",
    "| :------ | :------ |\n",
    "| `'r'` | Open a text file for reading. This is the default if you do not specify the file-open mode when you call open.  |\n",
    "| `'w'` | Open a text file for writing. Existing file contents are _deleted_.  |\n",
    "| **`'a'`** | Open a text file for appending at the end, creating the file if it does not exist. New data is written at the end of the file.  |\n",
    "| **`'r+'`** | Open a text file reading and writing.  |\n",
    "| **`'w+'`** | Open a text file reading and writing. Existing file contents are _deleted_. |\n",
    "| **`'a+'`** | Open a text file reading and appending at the end. New data is written at the end of the file. If the file does not exist, it is created.  |"
   ]
  },
  {
   "cell_type": "markdown",
   "metadata": {},
   "source": [
    "### Other File Object Methods\n",
    "* The classes that Python uses to create file objects are defined in the Python Standard Library’s [**io module**](https://docs.python.org/3/library/io.html). See the documentation for many additional file-object methods."
   ]
  },
  {
   "cell_type": "markdown",
   "metadata": {},
   "source": [
    "# 9.8 Handling Exceptions\n",
    "Exceptions when you work with files: \n",
    "* A **`FileNotFoundError`** occurs if you **attempt to open a non-existent file** for reading with the `'r'` or `'r+'` modes. \n",
    "* A **`PermissionsError`** occurs if you **attempt an operation for which you do not have permission**. \n",
    "* A `ValueError` (with the error message `'I/O operation on closed file.'`) occurs when you **attempt to write to a file that has already been closed**."
   ]
  },
  {
   "cell_type": "markdown",
   "metadata": {},
   "source": [
    "## 9.8.2 `try` Statements\n",
    "\n",
    "```python \n",
    "# dividebyzero.py\n",
    "\"\"\"Simple exception handling example.\"\"\"\n",
    "\n",
    "while True:\n",
    "    # attempt to convert and divide values\n",
    "    try:\n",
    "        number1 = int(input('Enter numerator: '))\n",
    "        number2 = int(input('Enter denominator: '))\n",
    "        result = number1 / number2\n",
    "    except ValueError:  # tried to convert non-numeric value to int\n",
    "        print('You must enter two integers\\n')\n",
    "    except ZeroDivisionError:  # denominator was 0\n",
    "        print('Attempted to divide by zero\\n')\n",
    "    else:  # executes only if no exceptions occur\n",
    "        print(f'{number1:.3f} / {number2:.3f} = {result:.3f}')\n",
    "        break  # terminate the loop\n",
    "```"
   ]
  },
  {
   "cell_type": "code",
   "execution_count": null,
   "metadata": {},
   "outputs": [],
   "source": [
    "run dividebyzero.py"
   ]
  },
  {
   "cell_type": "markdown",
   "metadata": {},
   "source": [
    "## 9.8.3 Catching Multiple Exceptions in One `except` Clause\n",
    "```python\n",
    "except (type1, type2, …) as variable_name:\n",
    "```\n",
    "\n",
    "* **`as` clause is optional**&mdash;needed only if you want to access the exception object in the `except` suite."
   ]
  },
  {
   "cell_type": "markdown",
   "metadata": {},
   "source": [
    "# 9.10 Explicitly Raising an Exception with the **`raise`** Statement \n",
    "```python\n",
    "raise ExceptionClassName\n",
    "```\n",
    "\n",
    "* Creates an object of the specified exception class. \n",
    "* Optionally, specify parentheses containing arguments to initialize the exception object.\n",
    "* Code that raises an exception should first release any resources acquired before the exception occurred. \n",
    "* Generally, you should raise one of Python’s [**many built-in exception types**](https://docs.python.org/3/library/exceptions.html)."
   ]
  },
  {
   "cell_type": "markdown",
   "metadata": {},
   "source": [
    "# 9.11 Stack Unwinding and Tracebacks\n",
    "* Each exception object stores information indicating the precise series of function calls that led to the exception. \n",
    "* In a traceback, the bottom of the stack is shown first, and the **raise point** is shown last."
   ]
  },
  {
   "cell_type": "code",
   "execution_count": null,
   "metadata": {},
   "outputs": [],
   "source": [
    "def function1():\n",
    "    function2()"
   ]
  },
  {
   "cell_type": "code",
   "execution_count": null,
   "metadata": {},
   "outputs": [],
   "source": [
    "def function2():\n",
    "    raise Exception('An exception occurred')"
   ]
  },
  {
   "cell_type": "code",
   "execution_count": null,
   "metadata": {},
   "outputs": [],
   "source": [
    "function1()"
   ]
  },
  {
   "cell_type": "markdown",
   "metadata": {},
   "source": [
    "### Tip for Reading Tracebacks\n",
    "* When reading a traceback, start from the end of the traceback and read the error message first. \n",
    "* Then, read upward through the traceback, looking for the first line that indicates code you wrote in your program. \n",
    "* Typically, this is the location in your code that led to the exception."
   ]
  },
  {
   "cell_type": "markdown",
   "metadata": {
    "jp-MarkdownHeadingCollapsed": true
   },
   "source": [
    "# NEW in 3.11\n",
    "* Can call add_note on an exception to add additional information to an exception object\n",
    "* Raising and catching `ExceptionGroup`s\n",
    "    * Mainly for concurrent/parallel tasks that could raise exceptions at the same time"
   ]
  },
  {
   "cell_type": "code",
   "execution_count": null,
   "metadata": {},
   "outputs": [],
   "source": [
    "from exceptiongroup import ExceptionGroup"
   ]
  },
  {
   "cell_type": "code",
   "execution_count": null,
   "metadata": {},
   "outputs": [],
   "source": [
    "def parallel_task_simulator():\n",
    "    exceptions = [] # store exceptions for an ExceptionGroup\n",
    "    \n",
    "    try:\n",
    "        10 / 0 \n",
    "    except ZeroDivisionError as ex:\n",
    "        print(f'   1. {ex}')\n",
    "        exceptions.append(ex)\n",
    "\n",
    "    try:\n",
    "        int('hello')\n",
    "    except ValueError as ex:\n",
    "        print(f'   2. {ex}')\n",
    "        exceptions.append(ex)\n",
    "        \n",
    "    try:\n",
    "        float('hello')\n",
    "    except ValueError as ex:\n",
    "        print(f'   3. {ex}')\n",
    "        exceptions.append(ex)\n",
    "        \n",
    "    raise ExceptionGroup('Several exceptions raised', exceptions)"
   ]
  },
  {
   "cell_type": "markdown",
   "metadata": {},
   "source": [
    "## Can Catch `ExceptionGroup` and Iterate through Its `exceptions`"
   ]
  },
  {
   "cell_type": "code",
   "execution_count": null,
   "metadata": {},
   "outputs": [],
   "source": [
    "print('Call parallel_task_simulator and catch ExceptionGroup')\n",
    "\n",
    "try: \n",
    "    parallel_task_simulator()\n",
    "except ExceptionGroup as ex:\n",
    "    print(f'\\nString representation of ExceptionGroup:\\n   {ex}')\n",
    "    print('\\nIndividual exceptions in ExceptionGroup:')\n",
    "\n",
    "    for e in ex.exceptions:\n",
    "        exception_type = type(e).__name__\n",
    "        print(f'   {exception_type}: {e}')"
   ]
  },
  {
   "cell_type": "markdown",
   "metadata": {},
   "source": [
    "## Can Filter `ExceptionGroup` with `except*` to Process Specific Exception Types"
   ]
  },
  {
   "cell_type": "markdown",
   "metadata": {},
   "source": [
    "* Automatically re-raises any exception you don't process"
   ]
  },
  {
   "cell_type": "code",
   "execution_count": null,
   "metadata": {
    "scrolled": true
   },
   "outputs": [],
   "source": [
    "print('Use except* to filter specific exception types')\n",
    "\n",
    "try:\n",
    "    parallel_task_simulator()\n",
    "except* ValueError as ex1:\n",
    "    print('\\nCaught ValueError(s)')\n",
    "    \n",
    "    for e in ex1.exceptions:\n",
    "        exception_type = type(e).__name__\n",
    "        print(f'   {exception_type}: {e}')\n",
    "except* ZeroDivisionError as ex2:\n",
    "    print('\\nCaught ZeroDivisionError(s)')\n",
    "    \n",
    "    for e in ex2.exceptions:\n",
    "        exception_type = type(e).__name__\n",
    "        print(f'   {exception_type}: {e}')"
   ]
  },
  {
   "cell_type": "markdown",
   "metadata": {},
   "source": [
    "# More Info \n",
    "* See Lesson 9 in [**Python Fundamentals LiveLessons** here on O'Reilly Online Learning](https://learning.oreilly.com/videos/python-fundamentals/9780135917411)\n",
    "* See Chapter 9 in [**Python for Programmers** on O'Reilly Online Learning](https://learning.oreilly.com/library/view/python-for-programmers/9780135231364/)\n",
    "* Interested in a print book? Check out:\n",
    "\n",
    "| Python for Programmers | Intro to Python for Computer<br>Science and Data Science\n",
    "| :------ | :------\n",
    "| <a href=\"https://amzn.to/2VvdnxE\"><img alt=\"Python for Programmers cover\" src=\"../images/PyFPCover.png\" width=\"150\" border=\"1\"/></a> | <a href=\"https://amzn.to/2LiDCmt\"><img alt=\"Intro to Python for Computer Science and Data Science: Learning to Program with AI, Big Data and the Cloud\" src=\"../images/IntroToPythonCover.png\" width=\"159\" border=\"1\"></a>\n",
    "\n",
    ">Please **do not** purchase both books&mdash;_Python for Programmers_ is a subset of _Intro to Python for Computer Science and Data Science_"
   ]
  },
  {
   "cell_type": "markdown",
   "metadata": {
    "tags": []
   },
   "source": [
    "&copy; 2025 by Pearson Education, Inc. All Rights Reserved. The content in this notebook is based on the textbook [**Intro Python for Computer Science and Data Science**](https://amzn.to/2YU0QTJ) and our professional book [**Python for Programmers**](https://amzn.to/2VvdnxE) — Please do not purchase both. The professional book is a subset of the textbook."
   ]
  }
 ],
 "metadata": {
  "kernelspec": {
   "display_name": "Python 3 (ipykernel)",
   "language": "python",
   "name": "python3"
  },
  "language_info": {
   "codemirror_mode": {
    "name": "ipython",
    "version": 3
   },
   "file_extension": ".py",
   "mimetype": "text/x-python",
   "name": "python",
   "nbconvert_exporter": "python",
   "pygments_lexer": "ipython3",
   "version": "3.12.11"
  }
 },
 "nbformat": 4,
 "nbformat_minor": 4
}
