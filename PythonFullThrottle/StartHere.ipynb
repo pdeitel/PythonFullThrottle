{
 "cells": [
  {
   "cell_type": "code",
   "execution_count": 1,
   "metadata": {
    "jupyter": {
     "source_hidden": true
    },
    "tags": []
   },
   "outputs": [
    {
     "data": {
      "text/html": [
       "<!-- CSS settings for this notbook -->\n",
       "<style>\n",
       "    h1 {color:#03A}\n",
       "    h2 {color:purple}\n",
       "    h3 {color:#0099ff}\n",
       "    hr {    \n",
       "        border: 0;\n",
       "        height: 3px;\n",
       "        background: #333;\n",
       "        background-image: linear-gradient(to right, #ccc, black, #ccc);\n",
       "    }\n",
       "</style>\n"
      ],
      "text/plain": [
       "<IPython.core.display.HTML object>"
      ]
     },
     "metadata": {},
     "output_type": "display_data"
    }
   ],
   "source": [
    "%%html\n",
    "<!-- CSS settings for this notbook -->\n",
    "<style>\n",
    "    h1 {color:#03A}\n",
    "    h2 {color:purple}\n",
    "    h3 {color:#0099ff}\n",
    "    hr {    \n",
    "        border: 0;\n",
    "        height: 3px;\n",
    "        background: #333;\n",
    "        background-image: linear-gradient(to right, #ccc, black, #ccc);\n",
    "    }\n",
    "</style>"
   ]
  },
  {
   "cell_type": "markdown",
   "metadata": {
    "tags": []
   },
   "source": [
    "&copy; 2025 by Pearson Education, Inc. All Rights Reserved. The content in this notebook is based on the textbook [**Intro Python for Computer Science and Data Science**](https://amzn.to/2YU0QTJ) and our professional book [**Python for Programmers**](https://amzn.to/2VvdnxE) — Please do not purchase both. The professional book is a subset of the textbook."
   ]
  },
  {
   "attachments": {},
   "cell_type": "markdown",
   "metadata": {
    "slideshow": {
     "slide_type": "slide"
    }
   },
   "source": [
    "# Python Full Throttle\n",
    "<img alt=\"Python Fundamentals LiveLessons, 2/e cover\" src=\"./images/PythonFundamentals2e.png\" width=\"200\" style=\"float:left;padding-left:20px;\"/>\n",
    "<img alt=\"DeitelLogo\" src=\"./images/deitellogo.png\" style=\"float:left;padding-left:20px\" width=\"150\"/>"
   ]
  },
  {
   "cell_type": "markdown",
   "metadata": {
    "slideshow": {
     "slide_type": "slide"
    }
   },
   "source": [
    "**Paul Deitel, CEO,  \n",
    "Deitel & Associates, Inc.**  \n",
    "* https://deitel.com  \n",
    "* **<paul@deitel.com>**  \n",
    "* https://deitel.com/contact-us  \n",
    "* https://facebook.com/DeitelFan  \n",
    "* https://threads.net/DeitelFan\n",
    "* https://X.com/deitel (@deitel)  \n",
    "* https://linkedin.com/company/deitel-&-associates\n",
    "* https://bsky.app/profile/deitel.bsky.social\n",
    "* https://youtube.com/DeitelTV"
   ]
  },
  {
   "cell_type": "markdown",
   "metadata": {},
   "source": [
    "<hr style=\"height:2px; border:none; color:#000; background-color:#000;\">"
   ]
  },
  {
   "attachments": {},
   "cell_type": "markdown",
   "metadata": {},
   "source": [
    "# About Me\n",
    "* CEO, Deitel & Associates, Inc.\n",
    "* MIT grad with 45 years in computing\n",
    "* One of the world’s most experienced programming-languages trainers\n",
    "    * Teaching industry, military and academic software developers worldwide since 1992\n",
    "* Among the world’s best-selling programming-language textbook, professional book, and video authors"
   ]
  },
  {
   "cell_type": "markdown",
   "metadata": {},
   "source": [
    "<hr style=\"height:2px; border:none; color:#000; background-color:#000;\">"
   ]
  },
  {
   "attachments": {},
   "cell_type": "markdown",
   "metadata": {
    "slideshow": {
     "slide_type": "slide"
    },
    "tags": []
   },
   "source": [
    "# My Upcoming O'Reilly Live Training Courses\n",
    "https://deitel.com/LearnWithDeitel\n",
    "\n",
    "| Date       | Title                                                                 |\n",
    "|:-----------|:----------------------------------------------------------------------|\n",
    "| 10/07/25   | Python Full Throttle                                                  |\n",
    "| 10/14/25   | Python Data Science Full Throttle: Introductory AI, Big Data and Cloud Case Studies (including a new segment on programming with the OpenAI APIs) |\n",
    "| 11/04/25   | Python Full Throttle                                                  |\n",
    "| 11/11/25   | Java Full Throttle (updates thru Java 25 + new generative AI API examples)    |\n",
    "| 12/02/25   | Python Full Throttle                                                  |\n",
    "| 12/09/25   | Python Data Science Full Throttle: Introductory AI, Big Data and Cloud Case Studies (including a new segment on programming with the OpenAI APIs) |\n",
    "| 12/16/25   | Modern C++ Full Throttle with Paul Deitel: Intro to C++20 & the Standard Library                                                 |\n",
    "\n"
   ]
  },
  {
   "cell_type": "markdown",
   "metadata": {},
   "source": [
    "<hr style=\"height:2px; border:none; color:#000; background-color:#000;\">"
   ]
  },
  {
   "cell_type": "markdown",
   "metadata": {
    "slideshow": {
     "slide_type": "slide"
    },
    "tags": []
   },
   "source": [
    "# Python Data Science and AI Full Throttle \n",
    "https://learning.oreilly.com/live-events/python-data-science-full-throttle-with-paul-deitel-introductory-artificial-intelligence-ai-big-data-and-cloud-case-studies/0636920289197/0636920099325/\n",
    "\n",
    "**Fast-paced introduction** to some of today's most compelling, leading-edge **data science** and **artificial intelligence** and technologies:\n",
    "\n",
    "* **Natural Language Processing**\n",
    "* **Data Mining Social Media (Mastodon)**\n",
    "* **Machine Learning**\n",
    "* **Deep Learning**\n",
    "* **MongoDB NoSQL Document Database**\n",
    "* **Spark Streaming**\n",
    "* **Internet of Things (IoT) Streaming Data**\n",
    "* <span style=\"color: #00bf7d;\">**NEW: Generative AI with the OpenAI APIs (just redone and including several more examples)**</span> \n"
   ]
  },
  {
   "cell_type": "markdown",
   "metadata": {},
   "source": [
    "<hr style=\"height:2px; border:none; color:#000; background-color:#000;\">"
   ]
  },
  {
   "attachments": {},
   "cell_type": "markdown",
   "metadata": {
    "slideshow": {
     "slide_type": "slide"
    },
    "tags": []
   },
   "source": [
    "## New Full Throttle Course\n",
    "**Modern C++ Full Throttle with Paul Deitel: Intro to C++20 & the Standard Library**\n",
    "\n",
    "> Presentation-Only Intro to Fundamentals, Arrays, Vectors, Pointers, OOP, Ranges, Views, Functional Programming; Brief Intro to Concepts, Modules & Coroutines\n",
    "> \n",
    "> https://learning.oreilly.com/live-events/modern-c-full-throttle-with-paul-deitel-intro-to-c20-the-standard-library/0790145076976/\n",
    "\n",
    "Under development: **C++20 “Big Four” Full Throttle: Ranges, Concepts, Modules, Coroutines & More**\n",
    "\n",
    "> In-Depth, Presentation-Only Treatment of the Big Four, Containers, Iterators, Algorithms, Views, Functional Programming, Templates, Metaprogramming, Concurrency"
   ]
  },
  {
   "cell_type": "markdown",
   "metadata": {},
   "source": [
    "<hr style=\"height:2px; border:none; color:#000; background-color:#000;\">"
   ]
  },
  {
   "cell_type": "markdown",
   "metadata": {
    "slideshow": {
     "slide_type": "slide"
    },
    "tags": []
   },
   "source": [
    "# Now Available: Java How to Program, 12/e and Java for Programmers, 5/e\n",
    "<a style=\"float:left; padding-right:30px; width: 204px;\" href=\"https://deitel.com/jhtp12\"><img alt=\"Java How to Program, 12/e cover image\" src=\"./images/jhtp12Cover.jpg\" border=\"1\"/></a>\n",
    "\n",
    "<a style=\"float:left; padding-right:30px; width: 200px;\" href=\"https://deitel.com/javafp5\"><img alt=\"Java for Programmers, 5/e cover image\" src=\"./images/JavaFP5Cover.png\" border=\"1\"/></a>\n",
    "\n",
    "<a style=\"float:left; padding-right:30px; width: 200px;\" href=\"https://learning.oreilly.com/course/java-fundamentals-with/9780135353134/\"><img alt=\"Java Fundamentals, 3/e videos cover image\" src=\"./images/java-fundamentals-3-e-videos.jpg\" border=\"1\"/></a>"
   ]
  },
  {
   "cell_type": "markdown",
   "metadata": {
    "slideshow": {
     "slide_type": "slide"
    },
    "tags": []
   },
   "source": [
    "\n",
    "* [**Java How to Program, 12/e**](https://deitel.com/jhtp12) (full-color e-books published, full-color print book coming soon)\n",
    "* [**Java for Programmers, 5/e** on O'Reilly](https://learning.oreilly.com/library/view/java-for-programmers/9780137574834/)\n",
    "* [**Java Fundamentals LiveLessons. 3/e** on O'Reilly](https://learning.oreilly.com/course/java-fundamentals-with/9780135353134/) (20+ hours already posted)"
   ]
  },
  {
   "cell_type": "markdown",
   "metadata": {},
   "source": [
    "<hr style=\"height:2px; border:none; color:#000; background-color:#000;\">"
   ]
  },
  {
   "cell_type": "markdown",
   "metadata": {
    "slideshow": {
     "slide_type": "slide"
    },
    "tags": []
   },
   "source": [
    "# **C++20 LiveLessons** and<br/>**C++20 for Programmers** E-Book<br/>https://deitel.com/LearnWithDeitel\n",
    "<a style=\"float:left; padding-right:10px; width: 200px;\" href=\"https://learning.oreilly.com/videos/c20-fundamentals/9780136875185\"><img alt=\"C++ Fundamentals LiveLessons cover\" src=\"./images/cpp20ll.jpg\" border=\"1\"/></a>\n",
    "\n",
    "<a style=\"float:left; padding-right:10px; width:184px;\" href=\"https://learning.oreilly.com/library/view/c20-for-programmers/9780136905776/\"><img alt=\"C++20 for Programmers cover\" src=\"https://deitel.com/wp-content/uploads/2022/01/c-plus-plus-20-for-programmers-cover.png\" border=\"1\"/></a>\n"
   ]
  },
  {
   "cell_type": "markdown",
   "metadata": {},
   "source": [
    "<hr style=\"height:2px; border:none; color:#000; background-color:#000;\">"
   ]
  },
  {
   "cell_type": "markdown",
   "metadata": {
    "slideshow": {
     "slide_type": "slide"
    },
    "tags": []
   },
   "source": [
    "# C++20 TextBook Available as an e-Book\n",
    "## C++ How to Program: An Objects-Natural Approach, 11/e\n",
    "\n",
    "<a style=\"float:left; padding-right:30px; width: 200px;\" href=\"https://deitel.com/cpphtp11\"><img alt=\"C++ How to Program, 11/e cover\" src=\"https://deitel.com/wp-content/uploads/2023/05/c-plus-plus-how-to-program-11-e-cover.png\" border=\"1\"/></a>\n",
    "\n",
    "* https://deitel.com/cpphtp11\n",
    "* No more print textbooks\n",
    "* e-book formats: **Amazon Kindle** (https://amzn.to/44C3HjU), other e-reader formats, **https://VitalSource.com**, **https://RedShelf.com**\n",
    "* In production: **Pearson+ eText** (includes VideoNotes for Chapters 1-10) — https://pearson.com"
   ]
  },
  {
   "cell_type": "markdown",
   "metadata": {},
   "source": [
    "<hr style=\"height:2px; border:none; color:#000; background-color:#000;\">"
   ]
  },
  {
   "cell_type": "markdown",
   "metadata": {
    "slideshow": {
     "slide_type": "slide"
    },
    "tags": []
   },
   "source": [
    "# C How to Program, 9/e: with Application Programming and Systems Programming Case Studies\n",
    "**Available late March/early April**: e-mail **paul@deitel.com** with questions.\n",
    "\n",
    "<a style=\"float:left; padding-right:25px; width: 200px;\" href=\"https://deitel.com/c-how-to-program-9-e/\"><img alt=\"C How to Program, 9/e\" src=\"https://deitel.com/wp-content/uploads/2021/02/c-how-to-program-9-e.jpg\" border=\"1\"/></a>\n",
    "\n",
    "**A Few Key Features:**\n",
    "* Rich coverage of programming fundamentals\n",
    "* **20+ rich case studies from computer science, artificial intelligence, data science and other fields**\n",
    "* 350+ integrated self-check exercises with answers\n",
    "* Enhanced security/data science per ACM™/IEEE™ guidelines\n",
    "* Use free open-source libraries and tools\n",
    "* gnuplot visualization\n",
    "* raylib game programming\n",
    "* AI: Machine learning, natural language processing\n",
    "* Robotics and 3D graphics with the Webots simulator\n"
   ]
  },
  {
   "cell_type": "markdown",
   "metadata": {},
   "source": [
    "<hr style=\"height:2px; border:none; color:#000; background-color:#000;\">"
   ]
  },
  {
   "cell_type": "markdown",
   "metadata": {
    "slideshow": {
     "slide_type": "slide"
    }
   },
   "source": [
    "# Multitiered Learning Approach\n",
    "* No need to take extensive notes.\n",
    "* A video of this presentation will be available 24 hours after the course—link located in the GitHub repository's README.md file."
   ]
  },
  {
   "cell_type": "markdown",
   "metadata": {},
   "source": [
    "<hr style=\"height:2px; border:none; color:#000; background-color:#000;\">"
   ]
  },
  {
   "cell_type": "markdown",
   "metadata": {
    "slideshow": {
     "slide_type": "slide"
    }
   },
   "source": [
    "# Deitel Python on O'Reilly:<br/>https://deitel.com/LearnWithDeitel\n",
    "* **NEW EDITIONS UNDER DEVELOPMENT NOW**\n",
    "* **3.5 hours of new video posted**\n",
    "\n",
    "<div style=\"float: left; padding-right:10px;text-align:center\"><a href=\"https://learning.oreilly.com/videos/python-fundamentals/9780135917411\"><img alt=\"Python Fundamentals LiveLessons cover\" src=\"./images/PythonFundamentals2e.png\" width=\"185\" border=\"1\"/></a></br>50+ hours of in-depth videos</div>\n",
    "<div style=\"float: left; padding-right:10px;text-align:center\"><a href=\"https://learning.oreilly.com/library/view/intro-to-python/9780135404799/\"><img alt=\"Intro to Python for Computer Science and Data Science: Learning to Program with AI, Big Data and the Cloud\" src=\"./images/IntroToPythonCover.png\" width=\"195\" border=\"1\"></a><br/><a href=\"https://amzn.to/2LiDCmt\">Buy on Amazon</a></div></div>\n",
    "<div style=\"float: left; padding-right:10px;text-align:center\"><a href=\"https://learning.oreilly.com/library/view/python-for-programmers/9780135231364\"><img alt=\"Python for Programmers cover\" src=\"./images/PyFPCover.png\" width=\"184\" border=\"1\"/></a><br/><a href=\"https://amzn.to/2VvdnxE\">Buy on Amazon</a></div>"
   ]
  },
  {
   "cell_type": "markdown",
   "metadata": {
    "slideshow": {
     "slide_type": "slide"
    }
   },
   "source": [
    "Please do not buy both books. **Python for Programmers** is a subset of **Intro to Python**."
   ]
  },
  {
   "cell_type": "markdown",
   "metadata": {},
   "source": [
    "<hr style=\"height:2px; border:none; color:#000; background-color:#000;\">"
   ]
  },
  {
   "cell_type": "markdown",
   "metadata": {
    "slideshow": {
     "slide_type": "slide"
    }
   },
   "source": [
    "# [Our Python Textbook for College Courses](https://learning.oreilly.com/library/view/intro-to-python/9780135404799/)\n",
    "<a style=\"float: left; padding-right:25px\" href=\"https://amzn.to/2LiDCmt\"><img alt=\"Intro to Python for Computer Science and Data Science: Learning to Program with AI, Big Data and the Cloud\" src=\"./images/IntroToPythonCover.png\" width=\"150\" border=\"1\"></a>\n",
    "\n",
    "* **College Professors/Instructors**:  \n",
    "[Pre-Recorded Webinar Overview](https://www.pearson.com/us/about/news-events/events/2019/04/intro-to-python-for-computer-science-and-data-science.html).  \n",
    "* [**Request an examination copy**](https://www.pearson.com/replocator) from your Pearson rep\n",
    "* Full color\n",
    "* 880 pages&mdash;240 more than **Python for Programmers**\n",
    "* **Programming fundamentals**, including **program development**\n",
    "* **557 self-check exercises**\n",
    "* **471 end-of-chapter exercises and projects**—Good for term projects, directed studies, capstone projects and thesis research topics across many fields\n",
    "* **More Info:**\n",
    "https://deitel.com/intro-to-python-for-computer-science-and-data-science/\n",
    "   "
   ]
  },
  {
   "cell_type": "markdown",
   "metadata": {},
   "source": [
    "<hr style=\"height:2px; border:none; color:#000; background-color:#000;\">"
   ]
  },
  {
   "cell_type": "markdown",
   "metadata": {
    "slideshow": {
     "slide_type": "slide"
    }
   },
   "source": [
    "# Rhythm of the Course\n",
    "* **Whirlwind tour of Python 3**\n",
    "    * Python 2 was end of life as of April 2020 and should no longer be used\n",
    "* **Lecture only, source-code focused presentation**\n",
    "    * Six lecture segments and three breaks\n",
    "    * Two 7-minute breaks in first three hours\n",
    "    * 45-minute meal break \n",
    "    * Two 7-minute breaks in last three hours\n",
    "* [**Python for Programmers**](https://learning.oreilly.com/library/view/python-for-programmers/9780135231364/) is **indexed extensively**. \n",
    "    * If you don't see a topic here or need more detail, check the book's index to help locate the topic in our [**Python Fundamentals videos**](https://learning.oreilly.com/videos/python-fundamentals/9780135917411) or the book.\n",
    "* Questions after the course? **<paul@deitel.com>**"
   ]
  },
  {
   "cell_type": "markdown",
   "metadata": {},
   "source": [
    "<hr style=\"height:2px; border:none; color:#000; background-color:#000;\">"
   ]
  },
  {
   "cell_type": "markdown",
   "metadata": {},
   "source": [
    "# Code and Jupyter Notebooks for Today's Presentation\n",
    "* Presenting in **Jupyter Notebooks**\n",
    "    * Browser-based tool.\n",
    "    * Can combine **executable code, text, images, audio and video**.\n",
    "* **https://github.com/pdeitel/PythonFullThrottle** contains all the code and Jupyter Notebooks.\n",
    "* **`PythonFullThrottle`** folder contains this **`StartHere.ipynb`** and **sufolders `ch01`-`ch10`** for the 10 sections of today's presentation.\n",
    "* Each notebook also is **provided as an HTML document** that you can simply load in your browser&mdash;the code in these is **not** executable."
   ]
  },
  {
   "cell_type": "markdown",
   "metadata": {},
   "source": [
    "<hr style=\"height:2px; border:none; color:#000; background-color:#000;\">"
   ]
  },
  {
   "cell_type": "markdown",
   "metadata": {},
   "source": [
    "# Anaconda Python Distribution\n",
    "* https://www.anaconda.com/download \n",
    "* **Windows**, **macOS** and **Linux**\n",
    "* Includes **Python**, the **IPython interpreter** and **Jupyter Notebooks** \n",
    "* Includes wide range of **software packages** and **libraries** commonly used in **Python programming**, **scientific computing**, **data science**, **AI** and more\n",
    "* Currently Python 3.13\n",
    "* For setup instructions, see https://learning.oreilly.com/videos/python-fundamentals/9780135917411/9780135917411-PFLL_BYB_00/ (Before You Begin in my Python Fundamentals Livelessons)"
   ]
  },
  {
   "cell_type": "markdown",
   "metadata": {
    "tags": []
   },
   "source": [
    "<hr style=\"height:2px; border:none; color:#000; background-color:#000;\">"
   ]
  },
  {
   "cell_type": "markdown",
   "metadata": {},
   "source": [
    "# Running the Examples in a Zero-Install Environment\n",
    "* To run today's examples in a Zero-Install environment that you can access via your web browser, use this MyBinder link: \n",
    "> https://mybinder.org/v2/gh/pdeitel/PythonFullThrottle/HEAD?urlpath=lab\n",
    "* This will handle all but one or two of the examples.\n",
    "* When it loads, click Build. \n",
    "* When the build finishes, click Reload. \n",
    "\n",
    "**Another Option: Google Colab (free tier)**\n",
    "* https://colab.research.google.com/?utm_source=scs-index\n",
    "* Can upload notebooks into your Google Drive\n",
    "* Most of my examples will run there"
   ]
  },
  {
   "cell_type": "markdown",
   "metadata": {},
   "source": [
    "<hr style=\"height:2px; border:none; color:#000; background-color:#000;\">"
   ]
  },
  {
   "cell_type": "markdown",
   "metadata": {},
   "source": [
    "# Using Docker and the `jupyter/scipy-notebook` Container\n",
    "If you prefer not to install Anaconda, you can use a Docker container\n",
    "1.  Install Docker Desktop \n",
    "> https://www.docker.com/products/docker-desktop/\n",
    "\n",
    "2. Open a Command Prompt (Windows), Terminal window (macOS/Linux) or shell (Linux)\n",
    "\n",
    "3. `cd` into the `PythonFullThrottle` folder with my code examples on your machine \n",
    "\n",
    "4. Run the following command from the `PythonFullThrottle` folder — **do not press _Enter_ or _return_ until you've typed the entire command**:\n",
    ">```\n",
    "> docker run --rm -p 8888:8888 -it --user root -v .:/home/jovyan/work jupyter/scipy-notebook start.sh jupyter lab\n",
    ">```\n",
    "\n",
    "**Notes:**\n",
    "* First time you run this it downloads `jupyter/scipy-notebook` container\n",
    "* You can then access the Jupyter notebooks from your local machine at https://localhost:8888/lab — the full URL with a security key will be displayed at the command line so you can copy/paste it.\n",
    "* Container uses Linux internally\n",
    "* The preceding command attaches current folder (`.`) to container's `/home/jovyan/work` folder\n",
    "* Any work you save there will be saved to the **`PythonFullThrottle`** folder on your system\n",
    "* If port 8888 is occupied by another app on your machine you can change the first 8888 to another number "
   ]
  },
  {
   "cell_type": "markdown",
   "metadata": {},
   "source": [
    "<hr style=\"height:2px; border:none; color:#000; background-color:#000;\">"
   ]
  },
  {
   "cell_type": "markdown",
   "metadata": {
    "slideshow": {
     "slide_type": "slide"
    }
   },
   "source": [
    "# Python Full Throttle Sections\n",
    "These correspond to lessons and chapters in our videos and books on O'Reilly\n",
    "1. [Introduction and Test-Drive of the IPython Interpreter](ch01/Ch01.ipynb) \n",
    "2. [Introduction to Python](ch02/Ch02.ipynb) \n",
    "3. [Control Statements](ch03/Ch03.ipynb) \n",
    "4. [Functions](ch04/Ch04.ipynb)\n",
    "5. [Sequences: Lists and Tuples; Functional-Style Programming; Static Visualization](ch05/Ch05.ipynb) \n",
    "6. [Dictionaries and Sets; Dynamic Visualization](ch06/Ch06.ipynb) \n",
    "7. [Array-Oriented Programming with NumPy](ch07/Ch07.ipynb) \n",
    "8. [Strings: A Deeper Look; Regular Expressions](ch08/Ch08.ipynb) \n",
    "9. [Files and Exceptions; JSON Serialization; CSV Files](ch09/Ch09.ipynb) \n",
    "10. [Object-Oriented Programming; Card-Shuffling-and-Dealing Simulation](ch10/Ch10.ipynb)\n",
    "11. Wrap-Up"
   ]
  },
  {
   "cell_type": "markdown",
   "metadata": {},
   "source": [
    "<hr style=\"height:2px; border:none; color:#000; background-color:#000;\">"
   ]
  },
  {
   "cell_type": "markdown",
   "metadata": {},
   "source": [
    "&copy; 2025 by Pearson Education, Inc. All Rights Reserved. The content in this notebook is based on the textbook [**Intro Python for Computer Science and Data Science**](https://amzn.to/2YU0QTJ) and our professional book [**Python for Programmers**](https://amzn.to/2VvdnxE) — Please do not purchase both. The professional book is a subset of the textbook."
   ]
  }
 ],
 "metadata": {
  "kernelspec": {
   "display_name": "Python 3 (ipykernel)",
   "language": "python",
   "name": "python3"
  },
  "language_info": {
   "codemirror_mode": {
    "name": "ipython",
    "version": 3
   },
   "file_extension": ".py",
   "mimetype": "text/x-python",
   "name": "python",
   "nbconvert_exporter": "python",
   "pygments_lexer": "ipython3",
   "version": "3.13.5"
  },
  "nbTranslate": {
   "displayLangs": [
    "*"
   ],
   "hotkey": "alt-t",
   "langInMainMenu": true,
   "sourceLang": "en",
   "targetLang": "fr",
   "useGoogleTranslate": true
  }
 },
 "nbformat": 4,
 "nbformat_minor": 4
}
