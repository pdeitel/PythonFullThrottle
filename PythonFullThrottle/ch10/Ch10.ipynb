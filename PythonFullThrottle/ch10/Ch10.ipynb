{
 "cells": [
  {
   "cell_type": "code",
   "execution_count": null,
   "metadata": {
    "editable": true,
    "jupyter": {
     "source_hidden": true
    },
    "slideshow": {
     "slide_type": ""
    },
    "tags": []
   },
   "outputs": [],
   "source": [
    "%%html\n",
    "<!-- CSS settings for this notbook -->\n",
    "<style>\n",
    "    h1 {color:#03A}\n",
    "    h2 {color:purple}\n",
    "    h3 {color:#0099ff}\n",
    "    hr {    \n",
    "        border: 0;\n",
    "        height: 3px;\n",
    "        background: #333;\n",
    "        background-image: linear-gradient(to right, #ccc, black, #ccc);\n",
    "    }\n",
    "</style>"
   ]
  },
  {
   "cell_type": "markdown",
   "metadata": {
    "tags": []
   },
   "source": [
    "&copy; 2025 by Pearson Education, Inc. All Rights Reserved. The content in this notebook is based on the textbook [**Intro Python for Computer Science and Data Science**](https://amzn.to/2YU0QTJ) and our professional book [**Python for Programmers**](https://amzn.to/2VvdnxE) — Please do not purchase both. The professional book is a subset of the textbook."
   ]
  },
  {
   "cell_type": "markdown",
   "metadata": {},
   "source": [
    "### Python Fundamentals LiveLessons Videos\n",
    "* For a detailed presentation of the content in this notebook see **[Lesson 10](https://learning.oreilly.com/videos/python-fundamentals/9780135917411/9780135917411-PFLL_Lesson10_00)** on O'Reilly Online Learning"
   ]
  },
  {
   "cell_type": "markdown",
   "metadata": {},
   "source": [
    "# 10. Object-Oriented Programming\n",
    "* Note: Some sections reordered from our book for _Python Full Throttle_ presentation purposes. \n",
    "\n",
    "# 10.1 Introduction\n",
    "* Create and manipulate objects of **custom classes**.\n",
    "* Control **access** to attributes.\n",
    "* Python **special methods** for string representations of objects.\n",
    "* **Inherit** from existing classes.\n",
    "* **Class `object`**&mdash;the base class of the Python class hierarchy.\n",
    "* **Duck typing** and **polymorphism** for “programming in the general.”\n",
    "* **Overload operators** for use with custom classes.\n",
    "* Build **test cases** into docstrings and run these tests with `doctest`.\n",
    "* **Card-shuffling-and-dealing simulation**.\n",
    "* **Python 3.7’s new data classes** for building classes faster by using a more concise notation and by **autogenerating** portions of the classes. "
   ]
  },
  {
   "cell_type": "markdown",
   "metadata": {},
   "source": [
    "# 10.2 Custom Class `Account`\n",
    "* **`Account` class** holds an account holder’s name and balance.\n",
    "* `Account` accepts **deposits** that increase the balance (withdrawals not implemented). "
   ]
  },
  {
   "cell_type": "markdown",
   "metadata": {},
   "source": [
    "## 10.2.1 Test-Driving Class Account \n"
   ]
  },
  {
   "cell_type": "markdown",
   "metadata": {},
   "source": [
    "### Class `Account` Maintains the Account Balance as a **`Decimal`**"
   ]
  },
  {
   "cell_type": "code",
   "execution_count": null,
   "metadata": {},
   "outputs": [],
   "source": [
    "from account import Account"
   ]
  },
  {
   "cell_type": "code",
   "execution_count": null,
   "metadata": {},
   "outputs": [],
   "source": [
    "from decimal import Decimal"
   ]
  },
  {
   "cell_type": "markdown",
   "metadata": {},
   "source": [
    "### Creating an `Account` Object with a Constructor Expression "
   ]
  },
  {
   "cell_type": "code",
   "execution_count": null,
   "metadata": {
    "editable": true,
    "slideshow": {
     "slide_type": ""
    },
    "tags": []
   },
   "outputs": [],
   "source": [
    "account1 = Account('John Green', Decimal('50.00'))"
   ]
  },
  {
   "cell_type": "markdown",
   "metadata": {},
   "source": [
    "### Getting an `Account`’s Name and Balance Via Data Attributes"
   ]
  },
  {
   "cell_type": "code",
   "execution_count": null,
   "metadata": {},
   "outputs": [],
   "source": [
    "account1.name"
   ]
  },
  {
   "cell_type": "code",
   "execution_count": null,
   "metadata": {},
   "outputs": [],
   "source": [
    "account1.balance"
   ]
  },
  {
   "cell_type": "markdown",
   "metadata": {},
   "source": [
    "### Depositing Money into an `Account` with Method `deposit` "
   ]
  },
  {
   "cell_type": "code",
   "execution_count": null,
   "metadata": {},
   "outputs": [],
   "source": [
    "account1.deposit(Decimal('25.53'))"
   ]
  },
  {
   "cell_type": "code",
   "execution_count": null,
   "metadata": {},
   "outputs": [],
   "source": [
    "account1.balance"
   ]
  },
  {
   "cell_type": "code",
   "execution_count": null,
   "metadata": {
    "editable": true,
    "slideshow": {
     "slide_type": ""
    },
    "tags": []
   },
   "outputs": [],
   "source": [
    "account1.deposit(Decimal('-123.45'))  # invalid deposit"
   ]
  },
  {
   "cell_type": "markdown",
   "metadata": {},
   "source": [
    "## 10.2.2 `Account` Class Definition\n",
    "* A class's **docstring** **must** begin in the line immediately following the **class header**.\n",
    "* See `account.py` in the ch10 folder."
   ]
  },
  {
   "cell_type": "markdown",
   "metadata": {},
   "source": [
    "### Accessing a Class's Docstring Using the IPython Help Mechanism"
   ]
  },
  {
   "cell_type": "code",
   "execution_count": null,
   "metadata": {
    "editable": true,
    "slideshow": {
     "slide_type": ""
    },
    "tags": []
   },
   "outputs": [],
   "source": [
    "Account?"
   ]
  },
  {
   "cell_type": "markdown",
   "metadata": {},
   "source": [
    "### Initializing Account Objects: Method `__init__` \n",
    "* `TypeError` if `__init__` returns anything other than `None` (the **default**). "
   ]
  },
  {
   "cell_type": "markdown",
   "metadata": {},
   "source": [
    "### `self` Parameter in Instance Methods\n",
    "* **All instance methods must specify at least one parameter**&mdash;named **`self`** by convention. \n",
    "* **Instance methods** use **`self`** to access the object’s instance attributes and methods. "
   ]
  },
  {
   "cell_type": "markdown",
   "metadata": {},
   "source": [
    "### Special Methods \n",
    "* Python class **`object`** defines the [special methods](https://docs.python.org/3/reference/datamodel.html#special-method-names) like `__init__` that are available for **all** Python objects."
   ]
  },
  {
   "cell_type": "markdown",
   "metadata": {},
   "source": [
    "# 10.3 Controlling Access to Attributes \n",
    "* Class `Account`’s methods ensure that the `balance` is **always** greater than or equal to `0.00`. \n",
    "* But, you **can still modify** attributes `name` and `balance` directly, **possibly introducing invalid data**. \n",
    "* Python tutorial: “**Nothing in Python makes it possible to enforce data hiding—it is all based upon convention.**”"
   ]
  },
  {
   "cell_type": "code",
   "execution_count": null,
   "metadata": {},
   "outputs": [],
   "source": [
    "account1 = Account('John Green', Decimal('50.00'))"
   ]
  },
  {
   "cell_type": "code",
   "execution_count": null,
   "metadata": {},
   "outputs": [],
   "source": [
    "account1.balance"
   ]
  },
  {
   "cell_type": "code",
   "execution_count": null,
   "metadata": {},
   "outputs": [],
   "source": [
    "account1.balance = Decimal('-1000.00')  # invalid value"
   ]
  },
  {
   "cell_type": "code",
   "execution_count": null,
   "metadata": {},
   "outputs": [],
   "source": [
    "account1.balance"
   ]
  },
  {
   "cell_type": "code",
   "execution_count": null,
   "metadata": {},
   "outputs": [],
   "source": [
    "account1.balance = \"hello\""
   ]
  },
  {
   "cell_type": "code",
   "execution_count": null,
   "metadata": {},
   "outputs": [],
   "source": [
    "account1.balance"
   ]
  },
  {
   "cell_type": "markdown",
   "metadata": {
    "editable": true,
    "slideshow": {
     "slide_type": ""
    },
    "tags": []
   },
   "source": [
    "# 10.4 `Time` Class with Properties for Data Access\n",
    "* **Properties** can control the manner in which they get and modify an object’s data&mdash;**assuming programmers follow conventions**.\n",
    "* For robust date and time manipulation capabilities, see Python's [**datetime** module]( https://docs.python.org/3/library/datetime.html)"
   ]
  },
  {
   "cell_type": "markdown",
   "metadata": {},
   "source": [
    "## 10.4.1 Test-Driving Class `Time` (Defined in `timewithproperties.py`)"
   ]
  },
  {
   "cell_type": "markdown",
   "metadata": {},
   "source": [
    "### Creating a `Time` Object"
   ]
  },
  {
   "cell_type": "code",
   "execution_count": null,
   "metadata": {
    "tags": []
   },
   "outputs": [],
   "source": [
    "from timewithproperties import Time"
   ]
  },
  {
   "cell_type": "code",
   "execution_count": null,
   "metadata": {},
   "outputs": [],
   "source": [
    "wake_up = Time(hour=6, minute=30)  # second defaults to 0"
   ]
  },
  {
   "cell_type": "markdown",
   "metadata": {},
   "source": [
    "### `Time` Object String Representation with `__repr__`\n",
    "* Called when you pass an object to **built-in function `repr`**—this is implicit **when you evaluate a variable in an IPython session**. \n",
    "* Python docs: `__repr__` returns **the “official” string representation of the object**. \n",
    "* Typically looks like a constructor expression."
   ]
  },
  {
   "cell_type": "code",
   "execution_count": null,
   "metadata": {},
   "outputs": [],
   "source": [
    "wake_up"
   ]
  },
  {
   "cell_type": "markdown",
   "metadata": {},
   "source": [
    "### `Time` Object String Representation with `__str__`\n",
    "* Called when you **convert an object to a string** with the built-in function `str`, `print` an object or insert an object into an f-string."
   ]
  },
  {
   "cell_type": "code",
   "execution_count": null,
   "metadata": {},
   "outputs": [],
   "source": [
    "print(wake_up)"
   ]
  },
  {
   "cell_type": "markdown",
   "metadata": {},
   "source": [
    "### Getting an Attribute Via a Property \n",
    "* Class time provides `hour`, `minute` and `second` **properties**. \n",
    "* **Properties are implemented as methods**, so they may contain logic (e.g., **validation**, **formatting**). "
   ]
  },
  {
   "cell_type": "code",
   "execution_count": null,
   "metadata": {},
   "outputs": [],
   "source": [
    "wake_up.hour  # calls the hour property's getter method"
   ]
  },
  {
   "cell_type": "markdown",
   "metadata": {},
   "source": [
    "### Setting the `Time` with Method `set_time`\n",
    "* Method `set_time` has default argument values and uses 0 for the `second` by default."
   ]
  },
  {
   "cell_type": "code",
   "execution_count": null,
   "metadata": {},
   "outputs": [],
   "source": [
    "wake_up.set_time(hour=7, minute=45)"
   ]
  },
  {
   "cell_type": "code",
   "execution_count": null,
   "metadata": {},
   "outputs": [],
   "source": [
    "wake_up"
   ]
  },
  {
   "cell_type": "markdown",
   "metadata": {},
   "source": [
    "### Setting an Attribute via a Property \n"
   ]
  },
  {
   "cell_type": "markdown",
   "metadata": {},
   "source": [
    "* This calls an `hour` method that takes `6` as an argument. "
   ]
  },
  {
   "cell_type": "code",
   "execution_count": null,
   "metadata": {},
   "outputs": [],
   "source": [
    "wake_up.hour = 6"
   ]
  },
  {
   "cell_type": "code",
   "execution_count": null,
   "metadata": {},
   "outputs": [],
   "source": [
    "print(wake_up)"
   ]
  },
  {
   "cell_type": "code",
   "execution_count": null,
   "metadata": {},
   "outputs": [],
   "source": [
    "wake_up"
   ]
  },
  {
   "cell_type": "markdown",
   "metadata": {},
   "source": [
    "### Attempting to Set an Invalid `hour` Value "
   ]
  },
  {
   "cell_type": "code",
   "execution_count": null,
   "metadata": {
    "editable": true,
    "slideshow": {
     "slide_type": ""
    },
    "tags": []
   },
   "outputs": [],
   "source": [
    "wake_up.hour = 100"
   ]
  },
  {
   "cell_type": "markdown",
   "metadata": {},
   "source": [
    "## 10.4.2 Class `Time` Definition"
   ]
  },
  {
   "cell_type": "markdown",
   "metadata": {},
   "source": [
    "### Leading Underscore (`_`) Naming Convention\n",
    "* **Python does not have private data**. \n",
    "* You use **naming conventions** to design classes that encourage correct use. \n",
    "* Convention: Any attribute name beginning with an **underscore (`_`)** is for a class’s **private internal use only**. \n",
    "* Identifiers that do **not** begin with an underscore (`_`) are **publicly accessible**. \n",
    "* Even when we use these conventions, **attributes are always accessible**.\n",
    "* See `timewithproperties.py` in the ch10 folder."
   ]
  },
  {
   "cell_type": "markdown",
   "metadata": {},
   "source": [
    "### IPython Auto-Completion Shows Only “Public” Attributes\n",
    "* IPython shows only \"public\" attributes when you try to **_Tab_ auto-complete** an expression.\n",
    "\n",
    "<!-- %config Completer.use_jedi = False # fix an autocompletion problem -->"
   ]
  },
  {
   "cell_type": "code",
   "execution_count": null,
   "metadata": {},
   "outputs": [],
   "source": [
    "wake_up"
   ]
  },
  {
   "cell_type": "code",
   "execution_count": null,
   "metadata": {},
   "outputs": [],
   "source": [
    "wake_up.minute = 69"
   ]
  },
  {
   "cell_type": "code",
   "execution_count": null,
   "metadata": {},
   "outputs": [],
   "source": [
    "wake_up"
   ]
  },
  {
   "cell_type": "code",
   "execution_count": null,
   "metadata": {},
   "outputs": [],
   "source": [
    "wake_up._hour = 'hello'"
   ]
  },
  {
   "cell_type": "code",
   "execution_count": null,
   "metadata": {},
   "outputs": [],
   "source": [
    "wake_up"
   ]
  },
  {
   "cell_type": "markdown",
   "metadata": {},
   "source": [
    "# 10.5 Simulating “Private” Attributes \n",
    "* Convention: **Two leading underscores** for **“private” attributes**. \n",
    "* “Private” attributes names are **mangled**&mdash;Python inserts **\\_ClassName** before the attribute name (e.g., `_Time__hour`).\n",
    "* Assigning to a **“private” attribute** raises an `AttributeError`.\n",
    "* **Client code can still use the well-known mangled name to access the attribute**."
   ]
  },
  {
   "cell_type": "markdown",
   "metadata": {},
   "source": [
    "### Demonstrating “Private” Attributes\n",
    "Class `PrivateClass` has one **“public” data attribute** `public_data` and one **“private” data attribute** `__private_data`\n",
    "```python\n",
    "# private.py\n",
    "\"\"\"Class with public and private attributes.\"\"\"\n",
    "\n",
    "class PrivateClass:\n",
    "    \"\"\"Class with public and private attributes.\"\"\"\n",
    "\n",
    "    def __init__(self):\n",
    "        \"\"\"Initialize the public and private attributes.\"\"\"\n",
    "        self.public_data = \"public\"  # public attribute\n",
    "        self.__private_data = \"private\"  # private attribute\n",
    "\n",
    "```"
   ]
  },
  {
   "cell_type": "code",
   "execution_count": null,
   "metadata": {},
   "outputs": [],
   "source": [
    "from private import PrivateClass"
   ]
  },
  {
   "cell_type": "code",
   "execution_count": null,
   "metadata": {},
   "outputs": [],
   "source": [
    "my_object = PrivateClass()"
   ]
  },
  {
   "cell_type": "code",
   "execution_count": null,
   "metadata": {},
   "outputs": [],
   "source": [
    "my_object.public_data"
   ]
  },
  {
   "cell_type": "code",
   "execution_count": null,
   "metadata": {
    "editable": true,
    "slideshow": {
     "slide_type": ""
    },
    "tags": []
   },
   "outputs": [],
   "source": [
    "# change __private_data to _PrivateClass__private_data and see what happens\n",
    "my_object._PrivateClass__private_data"
   ]
  },
  {
   "cell_type": "markdown",
   "metadata": {},
   "source": [
    "# 10.7 Inheritance: Base Classes and Subclasses\n",
    "\n",
    "### “is a” vs. “has a”\n",
    "* Inheritance produces **“is-a” relationships**&mdash;an object of a **subclass type** may also be treated as an object of the **base-class type**. \n",
    "* Every prior class used **“has-a” relationships (composition)**&mdash;each class has **references** to one or more objects of other classes as members. "
   ]
  },
  {
   "cell_type": "markdown",
   "metadata": {},
   "source": [
    "# 10.8 Building an Inheritance Hierarchy; Introducing Polymorphism\n",
    "* Simple payroll app to show relationship between a **base class** and its **subclass**. \n",
    "    * Base class **`CommissionEmployee`** represents employees who are paid a percentage of their sales.\n",
    "    * Subclass **`SalariedCommissionEmployee`** represents employees who receive a percentage of their sales **plus** a base salary. "
   ]
  },
  {
   "cell_type": "markdown",
   "metadata": {},
   "source": [
    "## 10.8.1 Base Class `CommissionEmployee` \n",
    "* See `commmissionemployee.py` in the ch10 folder."
   ]
  },
  {
   "cell_type": "markdown",
   "metadata": {},
   "source": [
    "### All Classes Inherit Directly or Indirectly from Class `object`\n",
    "* If not specified, Python assumes **base class `object`**&mdash;the direct or indirect base class of **every** class. \n",
    "* Class `CommissionEmployee`’s header could be \n",
    ">```python\n",
    ">class CommissionEmployee(object):\n",
    ">```\n",
    "* **Single inheritance**: One class in the parentheses. \n",
    "* **Multiple inheritance**: Comma-separated list of classes in parentheses. \n",
    "* Two of the many methods inherited from `object` are `__repr__` and `__str__`. "
   ]
  },
  {
   "cell_type": "markdown",
   "metadata": {},
   "source": [
    "### Testing Class `CommissionEmployee`  "
   ]
  },
  {
   "cell_type": "code",
   "execution_count": null,
   "metadata": {},
   "outputs": [],
   "source": [
    "from commissionemployee import CommissionEmployee"
   ]
  },
  {
   "cell_type": "code",
   "execution_count": null,
   "metadata": {},
   "outputs": [],
   "source": [
    "from decimal import Decimal"
   ]
  },
  {
   "cell_type": "code",
   "execution_count": null,
   "metadata": {},
   "outputs": [],
   "source": [
    "c = CommissionEmployee('Sue Jones', Decimal('10000.00'), Decimal('0.06'))   "
   ]
  },
  {
   "cell_type": "code",
   "execution_count": null,
   "metadata": {},
   "outputs": [],
   "source": [
    "c"
   ]
  },
  {
   "cell_type": "code",
   "execution_count": null,
   "metadata": {},
   "outputs": [],
   "source": [
    "print(c)"
   ]
  },
  {
   "cell_type": "code",
   "execution_count": null,
   "metadata": {},
   "outputs": [],
   "source": [
    "print(f'{c.earnings():,.2f}')"
   ]
  },
  {
   "cell_type": "markdown",
   "metadata": {},
   "source": [
    "## 10.8.2 Subclass `SalariedCommissionEmployee` \n",
    "* A `SalariedCommissionEmployee` **is a** `CommissionEmployee` that also has the following features:\n",
    "    * **Method `__init__`** initializes all the data inherited from class `CommissionEmployee`, then uses the `base_salary` property’s `setter` to create and initialize a `_base_salary` data attribute.\n",
    "    * **Read-write property `base_salary`**, which performs validation.\n",
    "    * An overridden **`earnings` method**.\n",
    "    * An overridden **`__repr__` method**.\n",
    "* See `salariedcommissionemployee.py` in the ch10 folder"
   ]
  },
  {
   "cell_type": "markdown",
   "metadata": {},
   "source": [
    "### Method `__init__` and Built-In Function `super` \n",
    "* Each subclass `__init__` **must explicitly call its base class’s `__init__`** to initialize the data attributes inherited from the base class. "
   ]
  },
  {
   "cell_type": "markdown",
   "metadata": {},
   "source": [
    "### Testing Class `SalariedCommissionEmployee` "
   ]
  },
  {
   "cell_type": "code",
   "execution_count": null,
   "metadata": {},
   "outputs": [],
   "source": [
    "from salariedcommissionemployee import SalariedCommissionEmployee"
   ]
  },
  {
   "cell_type": "code",
   "execution_count": null,
   "metadata": {},
   "outputs": [],
   "source": [
    "s = SalariedCommissionEmployee(\n",
    "       'Bob Lewis', Decimal('5000.00'), Decimal('0.04'), Decimal('300.00'))"
   ]
  },
  {
   "cell_type": "code",
   "execution_count": null,
   "metadata": {},
   "outputs": [],
   "source": [
    "print(s.name, s.gross_sales, s.commission_rate, s.base_salary, sep='\\n')"
   ]
  },
  {
   "cell_type": "code",
   "execution_count": null,
   "metadata": {},
   "outputs": [],
   "source": [
    "print(f'{s.earnings():,.2f}')"
   ]
  },
  {
   "cell_type": "code",
   "execution_count": null,
   "metadata": {},
   "outputs": [],
   "source": [
    "s"
   ]
  },
  {
   "cell_type": "markdown",
   "metadata": {},
   "source": [
    "## 10.8.3 Processing `CommissionEmployee`s and `SalariedCommissionEmployee`s Polymorphically\n"
   ]
  },
  {
   "cell_type": "code",
   "execution_count": null,
   "metadata": {},
   "outputs": [],
   "source": [
    "employees = [c, s]"
   ]
  },
  {
   "cell_type": "code",
   "execution_count": null,
   "metadata": {
    "scrolled": true
   },
   "outputs": [],
   "source": [
    "for employee in employees:\n",
    "    print(employee)\n",
    "    print(f'{employee.earnings():,.2f}\\n')"
   ]
  },
  {
   "cell_type": "markdown",
   "metadata": {},
   "source": [
    "# 10.9 Duck Typing and Polymorphism\n",
    "* Other languages require inheritance-based “is a” relationships for polymorphic behavior. \n",
    "* Python has **duck typing**&mdash;“If it looks like a duck and quacks like a duck, it must be a duck.” \n",
    "* As long as an object has the data attribute, property or method (with the appropriate parameters) you wish to access, the code will work. "
   ]
  },
  {
   "cell_type": "markdown",
   "metadata": {},
   "source": [
    "### Class `WellPaidDuck`"
   ]
  },
  {
   "cell_type": "code",
   "execution_count": null,
   "metadata": {},
   "outputs": [],
   "source": [
    "class WellPaidDuck:\n",
    "    def __repr__(self):\n",
    "        return 'I am a well-paid duck'\n",
    "    def earnings(self):\n",
    "        return Decimal('1_000_000.00')"
   ]
  },
  {
   "cell_type": "code",
   "execution_count": null,
   "metadata": {},
   "outputs": [],
   "source": [
    "d = WellPaidDuck()"
   ]
  },
  {
   "cell_type": "code",
   "execution_count": null,
   "metadata": {},
   "outputs": [],
   "source": [
    "employees = [c, s, d] # c and s reused from earlier in this notebook"
   ]
  },
  {
   "cell_type": "code",
   "execution_count": null,
   "metadata": {},
   "outputs": [],
   "source": [
    "for employee in employees:\n",
    "    print(employee)\n",
    "    print(f'{employee.earnings():,.2f}\\n')"
   ]
  },
  {
   "cell_type": "markdown",
   "metadata": {},
   "source": [
    "# 10.10 Operator Overloading \n",
    "* Use **operator overloading** to define operators for your own types. \n",
    "* For each overloadable operator, class `object` defines an overridable [special method](https://docs.python.org/3/reference/datamodel.html#special-method-names)."
   ]
  },
  {
   "cell_type": "markdown",
   "metadata": {
    "editable": true,
    "slideshow": {
     "slide_type": ""
    },
    "tags": []
   },
   "source": [
    "### Operator Overloading Restrictions\n",
    "* **Cannot change**\n",
    "    * **Precedence**\n",
    "    * **Left-to-right** or **right-to-left grouping**\n",
    "    * **“Arity”** of an operator (whether it's unary or binary)\n",
    "    * **How an operator works for built-in types**\n",
    "* **Cannot create new operators**\n"
   ]
  },
  {
   "cell_type": "markdown",
   "metadata": {},
   "source": [
    "### Complex Numbers \n",
    "* Complex numbers, like –3 + 4i and 6.2 – 11.73i, have the form \n",
    "```python\n",
    "realPart + imaginaryPart * i\n",
    "``` \n",
    "where `i` is the square root of -1. "
   ]
  },
  {
   "cell_type": "markdown",
   "metadata": {},
   "source": [
    "## 10.10.1 Test-Driving Class `Complex` "
   ]
  },
  {
   "cell_type": "code",
   "execution_count": null,
   "metadata": {
    "tags": []
   },
   "outputs": [],
   "source": [
    "from complexnumber import Complex"
   ]
  },
  {
   "cell_type": "code",
   "execution_count": null,
   "metadata": {},
   "outputs": [],
   "source": [
    "x = Complex(real=2, imaginary=4)"
   ]
  },
  {
   "cell_type": "code",
   "execution_count": null,
   "metadata": {},
   "outputs": [],
   "source": [
    "x"
   ]
  },
  {
   "cell_type": "code",
   "execution_count": null,
   "metadata": {},
   "outputs": [],
   "source": [
    "y = Complex(real=5, imaginary=-1)"
   ]
  },
  {
   "cell_type": "code",
   "execution_count": null,
   "metadata": {},
   "outputs": [],
   "source": [
    "y"
   ]
  },
  {
   "cell_type": "markdown",
   "metadata": {},
   "source": [
    "### Adding `Complex` Objects with Overloaded `+` Operator\n",
    "* The `+` operator should not modify its operands."
   ]
  },
  {
   "cell_type": "code",
   "execution_count": null,
   "metadata": {},
   "outputs": [],
   "source": [
    "x + y"
   ]
  },
  {
   "cell_type": "code",
   "execution_count": null,
   "metadata": {},
   "outputs": [],
   "source": [
    "x"
   ]
  },
  {
   "cell_type": "code",
   "execution_count": null,
   "metadata": {
    "editable": true,
    "slideshow": {
     "slide_type": ""
    },
    "tags": []
   },
   "outputs": [],
   "source": [
    "y"
   ]
  },
  {
   "cell_type": "markdown",
   "metadata": {},
   "source": [
    "## 10.10.2 Class `Complex` Definition\n",
    "* Overloaded binary operators **must provide two parameters**—by default, the **first** (`self`) is the **left** operand and the **second** (`right`) is the **right** operand.\n",
    "* **`__add__`** overloads `+` with the class object on the **left** passed as the **`self`** parameter (e.g., x + 7). \n",
    "* **`__radd__`** overloads `+` with the class object on the **right** passed as the **`self`** parameter (e.g., 7 + x)\n",
    "* Augmented assignment method names begin with **`i`**, as in **`__iadd__`**.\n",
    "* See `complexnumber.py` in the ch10 folder."
   ]
  },
  {
   "cell_type": "markdown",
   "metadata": {
    "editable": true,
    "slideshow": {
     "slide_type": ""
    },
    "tags": []
   },
   "source": [
    "# 10.11 Exception Class Hierarchy and Custom Exceptions\n",
    "* Exception classes inherit directly or indirectly from base class **`BaseException`** and are defined in **module `exceptions`**. \n",
    "* **`Exception`** is the base class for most common exceptions.\n",
    "* Use existing exception types if possible, but you can create your own via inheritance. \n",
    "* [Built-in exceptions documentation](https://docs.python.org/3/library/exceptions.html)."
   ]
  },
  {
   "cell_type": "markdown",
   "metadata": {},
   "source": [
    "# 10.14 Unit Testing with Docstrings and `doctest` "
   ]
  },
  {
   "cell_type": "markdown",
   "metadata": {},
   "source": [
    "### Module `doctest` and the `testmod` Function\n",
    "* The **`doctest` module** executes **unit tests** embedded in **docstrings**. \n",
    "* The module’s **`testmod` function** inspects your **docstrings** looking for **sample Python statements preceded by `>>>`**, each followed on the next line by the given statement’s **expected output** (if any). \n",
    "* **`testmod`** executes those statements, confirms that they **produce the expected output** and **reports failed tests** so you can locate and fix the problems in your code."
   ]
  },
  {
   "cell_type": "markdown",
   "metadata": {},
   "source": [
    "### Modified `Account` Class (`accountdoctest.py`)\n",
    "* See `accountdoctest.py` in the ch10 folder."
   ]
  },
  {
   "cell_type": "markdown",
   "metadata": {},
   "source": [
    "### Module `'__main__'` and Running Tests\n",
    "* When you load a module, Python assigns the module’s name to the **module's global attribute `__name__`**\n",
    "* Python uses the module name **`'__main__'`** if you execute a `.py` file as a **script**.\n",
    "* Run the file `accountdoctest.py` as a script to execute the tests."
   ]
  },
  {
   "cell_type": "code",
   "execution_count": null,
   "metadata": {
    "editable": true,
    "slideshow": {
     "slide_type": ""
    },
    "tags": []
   },
   "outputs": [],
   "source": [
    "run accountdoctest.py"
   ]
  },
  {
   "cell_type": "markdown",
   "metadata": {},
   "source": [
    "### Demonstrating a _Failed_ Test\n",
    "* In `accountdoctest2.py` we **commented out the `if` statement in method `__init__`** to demonstrate a failed test. "
   ]
  },
  {
   "cell_type": "code",
   "execution_count": null,
   "metadata": {
    "editable": true,
    "scrolled": true,
    "slideshow": {
     "slide_type": ""
    },
    "tags": []
   },
   "outputs": [],
   "source": [
    "run accountdoctest2.py"
   ]
  },
  {
   "cell_type": "markdown",
   "metadata": {},
   "source": [
    "### IPython `%doctest_mode` Magic\n",
    "* A convenient way to **create doctests for existing code** is to use an IPython interactive session to test your code, then copy and paste that session into a docstring. \n",
    "* IPython’s `In` `[]` and `Out[]` prompts are not compatible with `doctest`.\n",
    "* IPython provides the magic **`%doctest_mode`** to display prompts in the **`>>>`** format. \n",
    "* The magic toggles between the two prompt styles. \n"
   ]
  },
  {
   "cell_type": "markdown",
   "metadata": {},
   "source": [
    "# 10.6 Case Study: Card Shuffling and Dealing Simulation\n",
    "* **Class `Card`** represents a **playing card** that has a **face** and a **suit**. \n",
    "* **Class `DeckOfCards`** represents a **deck of 52 playing cards** as a **list of `Card` objects**. "
   ]
  },
  {
   "cell_type": "markdown",
   "metadata": {},
   "source": [
    "## 10.6.1 Test-Driving Classes Card and `DeckOfCards` "
   ]
  },
  {
   "cell_type": "markdown",
   "metadata": {},
   "source": [
    "### Creating, Shuffling and Dealing the Cards "
   ]
  },
  {
   "cell_type": "code",
   "execution_count": null,
   "metadata": {},
   "outputs": [],
   "source": [
    "from deck import DeckOfCards"
   ]
  },
  {
   "cell_type": "code",
   "execution_count": null,
   "metadata": {},
   "outputs": [],
   "source": [
    "deck_of_cards = DeckOfCards()"
   ]
  },
  {
   "cell_type": "code",
   "execution_count": null,
   "metadata": {},
   "outputs": [],
   "source": [
    "print(deck_of_cards) # calls DeckOfCards __str__ method"
   ]
  },
  {
   "cell_type": "code",
   "execution_count": null,
   "metadata": {},
   "outputs": [],
   "source": [
    "deck_of_cards.shuffle()"
   ]
  },
  {
   "cell_type": "code",
   "execution_count": null,
   "metadata": {},
   "outputs": [],
   "source": [
    "print(deck_of_cards)"
   ]
  },
  {
   "cell_type": "markdown",
   "metadata": {},
   "source": [
    "### Dealing Cards"
   ]
  },
  {
   "cell_type": "code",
   "execution_count": null,
   "metadata": {},
   "outputs": [],
   "source": [
    "deck_of_cards.deal_card()  # IPython calls the returned Card object’s __repr__ method"
   ]
  },
  {
   "cell_type": "markdown",
   "metadata": {},
   "source": [
    "### Class `Card`’s Other Features"
   ]
  },
  {
   "cell_type": "code",
   "execution_count": null,
   "metadata": {},
   "outputs": [],
   "source": [
    "card = deck_of_cards.deal_card()"
   ]
  },
  {
   "cell_type": "code",
   "execution_count": null,
   "metadata": {},
   "outputs": [],
   "source": [
    "str(card)  # calls Card's __str__ method"
   ]
  },
  {
   "cell_type": "markdown",
   "metadata": {},
   "source": [
    "* Each `Card` has a corresponding **image file name** that we'll use to **display card images** later."
   ]
  },
  {
   "cell_type": "code",
   "execution_count": null,
   "metadata": {
    "editable": true,
    "slideshow": {
     "slide_type": ""
    },
    "tags": []
   },
   "outputs": [],
   "source": [
    "card.image_name"
   ]
  },
  {
   "cell_type": "markdown",
   "metadata": {},
   "source": [
    "## 10.6.2 Class `Card`—Introducing Class Attributes\n",
    "* Create a **class attribute** by assigning a value to it inside the class’s definition, but not inside any of the class’s methods or properties.\n",
    "* **`FACES`** and **`SUITS`** are **\"constants\"** that are not meant to be modified. \n",
    "* Class attributes are **accessed through the class’s name**. \n",
    "* Class `Card`’s special method **`__format__`** is called when a `Card` object is **formatted** as a string&mdash;**such as when you insert it into an f-string placeholder**. \n",
    "\n",
    "See `card.py` in the ch10 folder."
   ]
  },
  {
   "cell_type": "markdown",
   "metadata": {},
   "source": [
    "## 10.6.3 Class `DeckOfCards` \n",
    "See `deck.py` in the ch10 folder."
   ]
  },
  {
   "cell_type": "markdown",
   "metadata": {},
   "source": [
    "# 10.13 Python 3.7’s Data Classes\n",
    "* **Data classes** (module **`dataclasses`**) help you build classes **faster** with more **concise notation**. \n",
    "* Can be **generated dynamically from a list of field names**, like what often is found in **a CSV file's first line**."
   ]
  },
  {
   "cell_type": "markdown",
   "metadata": {
    "editable": true,
    "slideshow": {
     "slide_type": ""
    },
    "tags": []
   },
   "source": [
    "### Data Classes Autogenerate \"Boilerplate\" Code \n",
    "* **Autogenerate data attributes** and the **`__init__` and `__repr__` methods** for you. \n",
    "* **Autogenerate method `__eq__`**, which **overloads the `==` operator**. \n",
    "    * Any class with an **`__eq__` method** implicitly **supports `!=`**&mdash;**all classes inherit `object`’s default `__ne__` (not equals) method implementation**, which returns the opposite of `__eq__` (or `NotImplemented` if the class does not define `__eq__`). \n",
    "* Optionally, **generate methods** for the **`<`**, **`<=`**, **`>`** and **`>=`** comparison operators.\n",
    "* May contain **properties** and **methods**, and participate in class hierarchies. \n",
    "\n",
    "See `carddataclass.py` in the ch10 folder."
   ]
  },
  {
   "cell_type": "markdown",
   "metadata": {},
   "source": [
    "### Using the `@dataclass` Decorator\n",
    "* The **decorator `@dataclass(order=True)`** causes the data class to **autogenerate overloaded `<`, `<=`, `>` and `>=` operators**. \n",
    "* This might be useful if you need to **sort your data-class objects**."
   ]
  },
  {
   "cell_type": "markdown",
   "metadata": {},
   "source": [
    "### Variable Annotations\n",
    "* **Data classes** declare both **class attributes** and **data attributes** inside the class, but **outside** the class’s methods.\n",
    "* Data classes require **variable annotations** to distinguish class attributes from data attributes.\n",
    "* **Variable annotations** also help a data class autogenerate its methods' implementation details."
   ]
  },
  {
   "cell_type": "markdown",
   "metadata": {},
   "source": [
    "### Methods `__init__`, `__repr__` and `__eq__`\n",
    "* **Data classes** inspect the **variable annotations** and include only the **data attributes** in generated method implementations. "
   ]
  },
  {
   "cell_type": "markdown",
   "metadata": {},
   "source": [
    "### Variable Annotation Notes\n",
    "* **Variable annotations** can use built-in types (like **`str`**, **`int`** and **`float`**), class types or types defined by the **`typing` module** (such as **`ClassVar`** and **`List`**). \n",
    "* **Type annotations are not enforced at execution time**.\n",
    "* `Card`’s `face` is meant to be a string, by you can assign it any type of object."
   ]
  },
  {
   "cell_type": "markdown",
   "metadata": {},
   "source": [
    "## 10.13.2 Using the `Card` Data Class \n"
   ]
  },
  {
   "cell_type": "code",
   "execution_count": null,
   "metadata": {},
   "outputs": [],
   "source": [
    "from carddataclass import Card"
   ]
  },
  {
   "cell_type": "code",
   "execution_count": null,
   "metadata": {},
   "outputs": [],
   "source": [
    "c1 = Card(Card.FACES[0], Card.SUITS[3])"
   ]
  },
  {
   "cell_type": "markdown",
   "metadata": {},
   "source": [
    "### Use `Card`’s Autogenerated `__repr__` Method"
   ]
  },
  {
   "cell_type": "code",
   "execution_count": null,
   "metadata": {},
   "outputs": [],
   "source": [
    "c1"
   ]
  },
  {
   "cell_type": "markdown",
   "metadata": {},
   "source": [
    "### Use Custom `__str__` Method"
   ]
  },
  {
   "cell_type": "code",
   "execution_count": null,
   "metadata": {},
   "outputs": [],
   "source": [
    "print(c1)"
   ]
  },
  {
   "cell_type": "markdown",
   "metadata": {},
   "source": [
    "### Access the Data Class’s Attributes and Read-Only Property "
   ]
  },
  {
   "cell_type": "code",
   "execution_count": null,
   "metadata": {},
   "outputs": [],
   "source": [
    "c1.face"
   ]
  },
  {
   "cell_type": "code",
   "execution_count": null,
   "metadata": {},
   "outputs": [],
   "source": [
    "c1.suit"
   ]
  },
  {
   "cell_type": "code",
   "execution_count": null,
   "metadata": {},
   "outputs": [],
   "source": [
    "c1.image_name"
   ]
  },
  {
   "cell_type": "markdown",
   "metadata": {},
   "source": [
    "### Compare `Card`s via the Autogenerated `==` Operator and Inherited `!=` Operator"
   ]
  },
  {
   "cell_type": "code",
   "execution_count": null,
   "metadata": {},
   "outputs": [],
   "source": [
    "c2 = Card(Card.FACES[0], Card.SUITS[3])"
   ]
  },
  {
   "cell_type": "code",
   "execution_count": null,
   "metadata": {},
   "outputs": [],
   "source": [
    "c2"
   ]
  },
  {
   "cell_type": "code",
   "execution_count": null,
   "metadata": {},
   "outputs": [],
   "source": [
    "c3 = Card(Card.FACES[0], Card.SUITS[0])"
   ]
  },
  {
   "cell_type": "code",
   "execution_count": null,
   "metadata": {},
   "outputs": [],
   "source": [
    "c3"
   ]
  },
  {
   "cell_type": "code",
   "execution_count": null,
   "metadata": {},
   "outputs": [],
   "source": [
    "c1 == c2"
   ]
  },
  {
   "cell_type": "code",
   "execution_count": null,
   "metadata": {},
   "outputs": [],
   "source": [
    "c1 == c3"
   ]
  },
  {
   "cell_type": "code",
   "execution_count": null,
   "metadata": {},
   "outputs": [],
   "source": [
    "c1 != c3"
   ]
  },
  {
   "cell_type": "markdown",
   "metadata": {},
   "source": [
    "### Using the `Card` Data Class in Class `DeckOfCards` \n",
    "* The **`deck2.py` file** contains **class `DeckOfCards`** using the **`Card` data class**. "
   ]
  },
  {
   "cell_type": "code",
   "execution_count": null,
   "metadata": {},
   "outputs": [],
   "source": [
    "from deck2 import DeckOfCards  # uses Card data class"
   ]
  },
  {
   "cell_type": "code",
   "execution_count": null,
   "metadata": {},
   "outputs": [],
   "source": [
    "deck_of_cards = DeckOfCards()"
   ]
  },
  {
   "cell_type": "code",
   "execution_count": null,
   "metadata": {},
   "outputs": [],
   "source": [
    "print(deck_of_cards)"
   ]
  },
  {
   "cell_type": "markdown",
   "metadata": {},
   "source": [
    "## 10.13.4 Data Class Advantages over Traditional Classes\n",
    "* When you change a **data class's data attributes** then use it in a script or interactive session, the **autogenerated code updates automatically**.\n",
    "* **Less code to maintain and debug**.\n",
    "* **Variable annotations** enable some **static code analysis tools** to show potential errors before they can occur at **execution time**&mdash;e.g., warn you when you use the wrong data type."
   ]
  },
  {
   "cell_type": "markdown",
   "metadata": {},
   "source": [
    "### More Information on Data Classes \n",
    "* [PEP 557](https://www.python.org/dev/peps/pep-0557/)\n",
    "* [Data Classes in Python documentation](https://docs.python.org/3/library/dataclasses.html)"
   ]
  },
  {
   "cell_type": "markdown",
   "metadata": {},
   "source": [
    "# More Info \n",
    "* See Lesson 10 in [**Python Fundamentals LiveLessons** here on O'Reilly Online Learning](https://learning.oreilly.com/videos/python-fundamentals/9780135917411)\n",
    "* See Chapter 10 in [**Python for Programmers** on O'Reilly Online Learning](https://learning.oreilly.com/library/view/python-for-programmers/9780135231364/)\n",
    "* Interested in a print book? Check out:\n",
    "\n",
    "| Python for Programmers | Intro to Python for Computer<br>Science and Data Science\n",
    "| :------ | :------\n",
    "| <a href=\"https://amzn.to/2VvdnxE\"><img alt=\"Python for Programmers cover\" src=\"../images/PyFPCover.png\" width=\"150\" border=\"1\"/></a> | <a href=\"https://amzn.to/2LiDCmt\"><img alt=\"Intro to Python for Computer Science and Data Science: Learning to Program with AI, Big Data and the Cloud\" src=\"../images/IntroToPythonCover.png\" width=\"159\" border=\"1\"></a>\n",
    "\n",
    ">Please **do not** purchase both books&mdash;_Python for Programmers_ is a subset of _Intro to Python for Computer Science and Data Science_"
   ]
  },
  {
   "cell_type": "markdown",
   "metadata": {
    "tags": []
   },
   "source": [
    "&copy; 2025 by Pearson Education, Inc. All Rights Reserved. The content in this notebook is based on the textbook [**Intro Python for Computer Science and Data Science**](https://amzn.to/2YU0QTJ) and our professional book [**Python for Programmers**](https://amzn.to/2VvdnxE) — Please do not purchase both. The professional book is a subset of the textbook."
   ]
  }
 ],
 "metadata": {
  "kernelspec": {
   "display_name": "Python 3 (ipykernel)",
   "language": "python",
   "name": "python3"
  },
  "language_info": {
   "codemirror_mode": {
    "name": "ipython",
    "version": 3
   },
   "file_extension": ".py",
   "mimetype": "text/x-python",
   "name": "python",
   "nbconvert_exporter": "python",
   "pygments_lexer": "ipython3",
   "version": "3.12.2"
  }
 },
 "nbformat": 4,
 "nbformat_minor": 4
}
