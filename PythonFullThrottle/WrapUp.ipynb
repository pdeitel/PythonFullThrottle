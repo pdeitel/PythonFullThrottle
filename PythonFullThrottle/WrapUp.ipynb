{
 "cells": [
  {
   "cell_type": "code",
   "execution_count": 1,
   "metadata": {
    "jupyter": {
     "source_hidden": true
    },
    "tags": []
   },
   "outputs": [
    {
     "data": {
      "text/html": [
       "<!-- CSS settings for this notbook -->\n",
       "<style>\n",
       "    h1 {color:#03A}\n",
       "    h2 {color:purple}\n",
       "    h3 {color:#0099ff}\n",
       "    hr {    \n",
       "        border: 0;\n",
       "        height: 3px;\n",
       "        background: #333;\n",
       "        background-image: linear-gradient(to right, #ccc, black, #ccc);\n",
       "    }\n",
       "</style>\n"
      ],
      "text/plain": [
       "<IPython.core.display.HTML object>"
      ]
     },
     "metadata": {},
     "output_type": "display_data"
    }
   ],
   "source": [
    "%%html\n",
    "<!-- CSS settings for this notbook -->\n",
    "<style>\n",
    "    h1 {color:#03A}\n",
    "    h2 {color:purple}\n",
    "    h3 {color:#0099ff}\n",
    "    hr {    \n",
    "        border: 0;\n",
    "        height: 3px;\n",
    "        background: #333;\n",
    "        background-image: linear-gradient(to right, #ccc, black, #ccc);\n",
    "    }\n",
    "</style>"
   ]
  },
  {
   "cell_type": "markdown",
   "metadata": {},
   "source": [
    "&copy; 2025 by Pearson Education, Inc. All Rights Reserved. The content in this notebook is based on the textbook [**Intro Python for Computer Science and Data Science**](https://amzn.to/2YU0QTJ) and our professional book [**Python for Programmers**](https://amzn.to/2VvdnxE) — Please do not purchase both. The professional book is a subset of the textbook."
   ]
  },
  {
   "cell_type": "markdown",
   "metadata": {},
   "source": [
    "<hr style=\"height:2px; border:none; color:#000; background-color:#000;\">"
   ]
  },
  {
   "cell_type": "markdown",
   "metadata": {
    "slideshow": {
     "slide_type": "slide"
    }
   },
   "source": [
    "# Wrap-Up\n",
    "### Thank You for Coming!\n",
    "* Please fill out the **course survey**. \n",
    "    * All comments, criticisms and suggestions are welcome.\n",
    "* Like what you saw? **Please send testimonial comments to paul@deitel.com**. We'd love to feature your comments in our marketing for future courses."
   ]
  },
  {
   "cell_type": "markdown",
   "metadata": {},
   "source": [
    "---"
   ]
  },
  {
   "attachments": {},
   "cell_type": "markdown",
   "metadata": {
    "slideshow": {
     "slide_type": "slide"
    },
    "tags": []
   },
   "source": [
    "# My Upcoming O'Reilly Live Training Courses\n",
    "https://deitel.com/LearnWithDeitel\n",
    "\n",
    "* **April 22**&mdash;Python Data Science Full Throttle (includes a new segment on **programming with Generative AI APIs**)\n",
    "* **May 6**&mdash;Python Full Throttle (with updates through 3.12)\n",
    "* **May 13** &mdash;Modern C++ Full Throttle: Intro to C++20 & the Standard Library &mdash; A Presentation-Only Intro to Fundamentals, Arrays, Vectors, Pointers, OOP, Ranges, Views, Functional Programming; Brief Intro to Concepts, Modules & Coroutines\n",
    "* **June 4**&mdash;Java Full Throttle (with updates Java 24)\n",
    "* **June 10**&mdash;Python Full Throttle (with updates through 3.12)\n"
   ]
  },
  {
   "cell_type": "markdown",
   "metadata": {},
   "source": [
    "---"
   ]
  },
  {
   "attachments": {},
   "cell_type": "markdown",
   "metadata": {
    "slideshow": {
     "slide_type": "slide"
    },
    "tags": []
   },
   "source": [
    "## New Full Throttle Courses\n",
    "**Modern C++ Full Throttle with Paul Deitel: Intro to C++20 & the Standard Library**\n",
    "\n",
    "> Presentation-Only Intro to Fundamentals, Arrays, Vectors, Pointers, OOP, Ranges, Views, Functional Programming; Brief Intro to Concepts, Modules & Coroutines\n",
    "> \n",
    "> https://learning.oreilly.com/live-events/modern-c-full-throttle-with-paul-deitel-intro-to-c20-the-standard-library/0790145076976/\n",
    "\n",
    "Under development: **C++20 “Big Four” Full Throttle: Ranges, Concepts, Modules, Coroutines & More**\n",
    "\n",
    "> In-Depth, Presentation-Only Treatment of the Big Four, Containers, Iterators, Algorithms, Views, Functional Programming, Templates, Metaprogramming, Concurrency"
   ]
  },
  {
   "cell_type": "markdown",
   "metadata": {},
   "source": [
    "<hr style=\"height:2px; border:none; color:#000; background-color:#000;\">"
   ]
  },
  {
   "cell_type": "markdown",
   "metadata": {
    "slideshow": {
     "slide_type": "slide"
    },
    "tags": []
   },
   "source": [
    "# Python Data Science and AI Full Throttle \n",
    "https://learning.oreilly.com/live-events/python-data-science-full-throttle-with-paul-deitel-introductory-artificial-intelligence-ai-big-data-and-cloud-case-studies/0636920289197/0636920099325/\n",
    "\n",
    "**Fast-paced introduction** to some of today's most compelling, leading-edge **data science** and **artificial intelligence** and technologies:\n",
    "\n",
    "* **Natural Language Processing**\n",
    "* **Data Mining Social Media (Mastodon)**\n",
    "    * Twitter too expensive for most people\n",
    "    * Replaced with Mastodon (at least temporarily) while we see what happens with the Twitter API\n",
    "* **Machine Learning**\n",
    "* **Deep Learning**\n",
    "* **MongoDB NoSQL Document Database**\n",
    "* **Spark Streaming**\n",
    "* **Internet of Things (IoT) Streaming Data**\n",
    "* <span style=\"color: #00bf7d;\">**NEW: Generative AI with the OpenAI APIs**</span> \n"
   ]
  },
  {
   "cell_type": "markdown",
   "metadata": {},
   "source": [
    "<hr style=\"height:2px; border:none; color:#000; background-color:#000;\">"
   ]
  },
  {
   "cell_type": "markdown",
   "metadata": {
    "slideshow": {
     "slide_type": "slide"
    }
   },
   "source": [
    "# Deitel Python on O'Reilly:<br/>https://deitel.com/LearnWithDeitel\n",
    "* **2/e under development now**\n",
    "* **3.5 hours of new video posted**\n",
    "\n",
    "<div style=\"float: left; padding-right:10px;text-align:center\"><a href=\"https://learning.oreilly.com/videos/python-fundamentals/9780135917411\"><img alt=\"Python Fundamentals LiveLessons cover\" src=\"./images/PythonFundamentalsLiveLessons.jpg\" width=\"200\" border=\"1\"/></a></br>50+ hours of in-depth videos</div>\n",
    "<div style=\"float: left; padding-right:10px;text-align:center\"><a href=\"https://learning.oreilly.com/library/view/intro-to-python/9780135404799/\"><img alt=\"Intro to Python for Computer Science and Data Science: Learning to Program with AI, Big Data and the Cloud\" src=\"./images/IntroToPythonCover.png\" width=\"195\" border=\"1\"></a><br/><a href=\"https://amzn.to/2LiDCmt\">Buy on Amazon</a></div></div>\n",
    "<div style=\"float: left; padding-right:10px;text-align:center\"><a href=\"https://learning.oreilly.com/library/view/python-for-programmers/9780135231364\"><img alt=\"Python for Programmers cover\" src=\"./images/PyFPCover.png\" width=\"184\" border=\"1\"/></a><br/><a href=\"https://amzn.to/2VvdnxE\">Buy on Amazon</a></div>"
   ]
  },
  {
   "cell_type": "markdown",
   "metadata": {},
   "source": [
    "<hr style=\"height:2px; border:none; color:#000; background-color:#000;\">"
   ]
  },
  {
   "cell_type": "markdown",
   "metadata": {
    "slideshow": {
     "slide_type": "slide"
    },
    "tags": []
   },
   "source": [
    "# Java How to Program, 12/e and Java for Programmers, 5/e\n",
    "<a style=\"float:left; padding-right:30px; width: 200px;\" href=\"https://deitel.com/jhtp12\"><img alt=\"Java How to Program, 12/e cover\" src=\"./images/jhtp12Cover.jpg\" border=\"1\"/></a>\n",
    "\n",
    "<a style=\"float:left; padding-right:30px; width: 200px;\" href=\"https://deitel.com/javafp5\"><img alt=\"Java for Programmers, 5/e cover\" src=\"./images/JavaFP5Cover.png\" border=\"1\"/></a>\n",
    "\n",
    "* **Java How to Program, 12/e** Sent to publication this weekened\n",
    "    * TOC/Preface posted at https://deitel.com/jhtp12\n",
    "* **Java for Programmers, 5/e** and **Java Fundamentals LiveLessons. 3/e** will be posted here on O'Reilly"
   ]
  },
  {
   "cell_type": "markdown",
   "metadata": {},
   "source": [
    "<hr style=\"height:2px; border:none; color:#000; background-color:#000;\">"
   ]
  },
  {
   "cell_type": "markdown",
   "metadata": {
    "slideshow": {
     "slide_type": "slide"
    },
    "tags": []
   },
   "source": [
    "# C++20 TextBook Available as an e-Book\n",
    "## C++ How to Program: An Objects-Natural Approach, 11/e\n",
    "\n",
    "<a style=\"float:left; padding-right:30px; width: 200px;\" href=\"https://deitel.com/cpphtp11\"><img alt=\"C++ How to Program, 11/e cover\" src=\"https://deitel.com/wp-content/uploads/2023/05/c-plus-plus-how-to-program-11-e-cover.png\" border=\"1\"/></a>\n",
    "\n",
    "* https://deitel.com/cpphtp11\n",
    "* No more print textbooks\n",
    "* e-book formats: **Amazon Kindle** (https://amzn.to/44C3HjU), other e-reader formats, **https://VitalSource.com**, **https://RedShelf.com**\n",
    "* In production: **Pearson+ eText** (includes VideoNotes for Chapters 1-10) — https://pearson.com"
   ]
  },
  {
   "cell_type": "markdown",
   "metadata": {},
   "source": [
    "<hr style=\"height:2px; border:none; color:#000; background-color:#000;\">"
   ]
  },
  {
   "cell_type": "markdown",
   "metadata": {
    "slideshow": {
     "slide_type": "slide"
    },
    "tags": []
   },
   "source": [
    "# **C++20 Fundamentals** Videos and<br/>**C++20 for Programmers** E-Book<br/>https://deitel.com/LearnWithDeitel\n",
    "<a style=\"float:left; padding-right:10px; width: 200px;\" href=\"https://learning.oreilly.com/videos/c20-fundamentals/9780136875185\"><img alt=\"C++ Fundamentals LiveLessons cover\" src=\"./images/cpp20ll.jpg\" border=\"1\"/></a>\n",
    "\n",
    "<a style=\"float:left; padding-right:10px; width:184px;\" href=\"https://learning.oreilly.com/library/view/c20-for-programmers/9780136905776/\"><img alt=\"C++20 for Programmers cover\" src=\"https://deitel.com/wp-content/uploads/2022/01/c-plus-plus-20-for-programmers-cover.png\" border=\"1\"/></a>\n"
   ]
  },
  {
   "cell_type": "markdown",
   "metadata": {},
   "source": [
    "<hr style=\"height:2px; border:none; color:#000; background-color:#000;\">"
   ]
  },
  {
   "cell_type": "markdown",
   "metadata": {
    "slideshow": {
     "slide_type": "slide"
    },
    "tags": []
   },
   "source": [
    "# C How to Program, 9/e: with Application Programming and Systems Programming Case Studies\n",
    "**Available late March/early April**: e-mail **paul@deitel.com** with questions.\n",
    "\n",
    "<a style=\"float:left; padding-right:25px; width: 200px;\" href=\"https://deitel.com/c-how-to-program-9-e/\"><img alt=\"C How to Program, 9/e\" src=\"https://deitel.com/wp-content/uploads/2021/02/c-how-to-program-9-e.jpg\" border=\"1\"/></a>\n",
    "\n",
    "**A Few Key Features:**\n",
    "* Rich coverage of programming fundamentals\n",
    "* **20+ rich case studies from computer science, artificial intelligence, data science and other fields**\n",
    "* 350+ integrated self-check exercises with answers\n",
    "* Enhanced security/data science per ACM™/IEEE™ guidelines\n",
    "* Use free open-source libraries and tools\n",
    "* gnuplot visualization\n",
    "* raylib game programming\n",
    "* AI: Machine learning, natural language processing\n",
    "* Robotics and 3D graphics with the Webots simulator\n"
   ]
  },
  {
   "cell_type": "markdown",
   "metadata": {},
   "source": [
    "<hr style=\"height:2px; border:none; color:#000; background-color:#000;\">"
   ]
  },
  {
   "cell_type": "markdown",
   "metadata": {
    "slideshow": {
     "slide_type": "slide"
    }
   },
   "source": [
    "# Contact Info\n",
    "* https://deitel.com  \n",
    "* **<paul@deitel.com>**  \n",
    "* https://deitel.com/contact-us  \n",
    "* https://facebook.com/DeitelFan  \n",
    "* https://threads.net/DeitelFan\n",
    "* https://X.com/deitel (@deitel)  \n",
    "* https://linkedin.com/company/deitel-&-associates\n",
    "* https://bsky.app/profile/deitel.bsky.social\n",
    "* https://youtube.com/DeitelTV"
   ]
  },
  {
   "cell_type": "markdown",
   "metadata": {},
   "source": [
    "<hr style=\"height:2px; border:none; color:#000; background-color:#000;\">"
   ]
  },
  {
   "cell_type": "markdown",
   "metadata": {},
   "source": [
    "##### &copy; 2025 by Pearson Education, Inc. All Rights Reserved. The content in this notebook is based on the textbook [**Intro Python for Computer Science and Data Science**](https://amzn.to/2YU0QTJ) and our professional book [**Python for Programmers**](https://amzn.to/2VvdnxE) — Please do not purchase both. The professional book is a subset of the textbook."
   ]
  }
 ],
 "metadata": {
  "kernelspec": {
   "display_name": "Python 3 (ipykernel)",
   "language": "python",
   "name": "python3"
  },
  "language_info": {
   "codemirror_mode": {
    "name": "ipython",
    "version": 3
   },
   "file_extension": ".py",
   "mimetype": "text/x-python",
   "name": "python",
   "nbconvert_exporter": "python",
   "pygments_lexer": "ipython3",
   "version": "3.13.2"
  },
  "nbTranslate": {
   "displayLangs": [
    "*"
   ],
   "hotkey": "alt-t",
   "langInMainMenu": true,
   "sourceLang": "en",
   "targetLang": "fr",
   "useGoogleTranslate": true
  }
 },
 "nbformat": 4,
 "nbformat_minor": 4
}
