{
 "cells": [
  {
   "cell_type": "code",
   "execution_count": null,
   "metadata": {
    "jupyter": {
     "source_hidden": true
    },
    "tags": []
   },
   "outputs": [],
   "source": [
    "%%html\n",
    "<!-- CSS settings for this notbook -->\n",
    "<style>\n",
    "    h1 {color:#03A}\n",
    "    h2 {color:purple}\n",
    "    h3 {color:#0099ff}\n",
    "    hr {    \n",
    "        border: 0;\n",
    "        height: 3px;\n",
    "        background: #333;\n",
    "        background-image: linear-gradient(to right, #ccc, black, #ccc);\n",
    "    }\n",
    "</style>"
   ]
  },
  {
   "cell_type": "markdown",
   "metadata": {
    "tags": []
   },
   "source": [
    "&copy; 2025 by Pearson Education, Inc. All Rights Reserved. The content in this notebook is based on the textbook [**Intro Python for Computer Science and Data Science**](https://amzn.to/2YU0QTJ) and our professional book [**Python for Programmers**](https://amzn.to/2VvdnxE) — Please do not purchase both. The professional book is a subset of the textbook."
   ]
  },
  {
   "cell_type": "markdown",
   "metadata": {},
   "source": [
    "### Python Fundamentals LiveLessons Videos\n",
    "* For a detailed presentation of the content in this notebook see **[Lesson 8](https://learning.oreilly.com/videos/python-fundamentals/9780135917411/9780135917411-PFLL_Lesson08_00)** on O'Reilly Online Learning"
   ]
  },
  {
   "cell_type": "markdown",
   "metadata": {},
   "source": [
    "# 8. Strings: A Deeper Look \n",
    "\n",
    "# 8.1 Introduction\n",
    "* Format string content\n",
    "* Raw string literals\n",
    "* Regular expressions for matching patterns in strings, replace substrings and validate data\n",
    "\n",
    "**More discussed in Lesson 8 videos** \n",
    "* For a discussion of many string methods, check out Lesson 8 of my [**Python Fundamentals LiveLessons** here on O'Reilly Online Learning](https://learning.oreilly.com/videos/python-fundamentals/9780135917411)\n",
    "* For a list of methods, visit https://docs.python.org/3/library/stdtypes.html#text-sequence-type-str \n"
   ]
  },
  {
   "cell_type": "markdown",
   "metadata": {},
   "source": [
    "# 8.2 Formatting Strings\n",
    "# 8.2.1 Presentation Types"
   ]
  },
  {
   "cell_type": "markdown",
   "metadata": {},
   "source": [
    "### **`f` Presentation Type** for Floating-Point Numbers and 'Decimal's"
   ]
  },
  {
   "cell_type": "code",
   "execution_count": null,
   "metadata": {},
   "outputs": [],
   "source": [
    "f'{17.489:.2f}'"
   ]
  },
  {
   "cell_type": "markdown",
   "metadata": {},
   "source": [
    "* Can also use the **`e` presentation type** for exponential (scientific) notation."
   ]
  },
  {
   "cell_type": "markdown",
   "metadata": {},
   "source": [
    "### **Presentation Types** for Integers\n",
    "* `d` for base-10 decimal integers\n",
    "* `b` for binary\n",
    "* `o` for octal\n",
    "* `x` or `X` for hexadecimal "
   ]
  },
  {
   "cell_type": "code",
   "execution_count": null,
   "metadata": {},
   "outputs": [],
   "source": [
    "num = 1000000"
   ]
  },
  {
   "cell_type": "code",
   "execution_count": null,
   "metadata": {},
   "outputs": [],
   "source": [
    "f'{num:d}   {num:b}  {num:o}   {num:x}   {num:X}'"
   ]
  },
  {
   "cell_type": "markdown",
   "metadata": {},
   "source": [
    "### **`c` presentation type** Formats an Integer Character Code as a Character"
   ]
  },
  {
   "cell_type": "code",
   "execution_count": null,
   "metadata": {},
   "outputs": [],
   "source": [
    "f'{0x1F600:c}  {65:c}  {97:c}'"
   ]
  },
  {
   "cell_type": "markdown",
   "metadata": {},
   "source": [
    "### **`s` Presentation Type** for Strings Is the Default\n",
    "* If specified explicitly, the value to format **must be a string**, an **expression that produces a string** or a **string literal**. \n",
    "* If you do not specify a presentation type, non-string values are converted to strings.\n",
    "* **NEW in Python 3.12**: Strings in placeholders can use the same delimiters as the f-string itself."
   ]
  },
  {
   "cell_type": "code",
   "execution_count": null,
   "metadata": {},
   "outputs": [],
   "source": [
    "f'{'hello':s} {7}'"
   ]
  },
  {
   "cell_type": "markdown",
   "metadata": {},
   "source": [
    "# 8.11 Raw Strings\n",
    "* Backslash characters in strings introduce **escape sequences**. "
   ]
  },
  {
   "cell_type": "code",
   "execution_count": null,
   "metadata": {},
   "outputs": [],
   "source": [
    "file_path = 'C:\\\\MyFolder\\\\MySubFolder\\\\MyFile.txt'  # Windows file path"
   ]
  },
  {
   "cell_type": "code",
   "execution_count": null,
   "metadata": {},
   "outputs": [],
   "source": [
    "file_path"
   ]
  },
  {
   "cell_type": "code",
   "execution_count": null,
   "metadata": {},
   "outputs": [],
   "source": [
    "print(file_path)"
   ]
  },
  {
   "cell_type": "markdown",
   "metadata": {},
   "source": [
    "* **Raw strings**—preceded by **`r`**—treat each backslash as a literal character.\n",
    "* Particularly useful with **regular expressions**, which often contain backslashes."
   ]
  },
  {
   "cell_type": "code",
   "execution_count": null,
   "metadata": {},
   "outputs": [],
   "source": [
    "file_path = r'C:\\MyFolder\\MySubFolder\\MyFile.txt'"
   ]
  },
  {
   "cell_type": "code",
   "execution_count": null,
   "metadata": {},
   "outputs": [],
   "source": [
    "file_path"
   ]
  },
  {
   "cell_type": "markdown",
   "metadata": {},
   "source": [
    "# 8.12 Introduction to Regular Expressions\n",
    "* **Regular expressions (regex)** recognize **patterns** in text&mdash;phone numbers, e-mail addresses, ZIP Codes, web page addresses, Social Security numbers, ...\n",
    "* Useful for \n",
    "    * Validating data.\n",
    "    * Extracting data from text (known as **scraping** or **mining**).\n",
    "    * Cleaning data to prepare it for use. \n",
    "    * Transforming data into other formats."
   ]
  },
  {
   "cell_type": "markdown",
   "metadata": {},
   "source": [
    "### Regular Expression Repositories of Existing Regular Expressions\n",
    "* [regex101.com](https://regex101.com) \n",
    "* [regexlib.com](http://www.regexlib.com)\n",
    "* [regular-expressions.info](https://www.regular-expressions.info)"
   ]
  },
  {
   "cell_type": "markdown",
   "metadata": {},
   "source": [
    "## 8.12.1 **`re` Module** and Function `fullmatch` \n",
    "* Function **`fullmatch`** checks whether the **entire string** in its second argument **matches the pattern** in its first argument. "
   ]
  },
  {
   "cell_type": "markdown",
   "metadata": {},
   "source": [
    "### Use `\\d` Predefined Character Class and a Quantifier to Match **5 Digits**\n",
    "* **`\\d`** matches one digit (0–9). \n",
    "* A character class **matches _one_ character**. "
   ]
  },
  {
   "cell_type": "code",
   "execution_count": null,
   "metadata": {},
   "outputs": [],
   "source": [
    "import re"
   ]
  },
  {
   "cell_type": "code",
   "execution_count": null,
   "metadata": {},
   "outputs": [],
   "source": [
    "'Valid' if re.fullmatch(r'\\d{5}', '02215') else 'Invalid' "
   ]
  },
  {
   "cell_type": "code",
   "execution_count": null,
   "metadata": {},
   "outputs": [],
   "source": [
    "'Valid' if re.fullmatch(r'\\d{5}', '9876') else 'Invalid'"
   ]
  },
  {
   "cell_type": "markdown",
   "metadata": {},
   "source": [
    "### Predefined Character Classes"
   ]
  },
  {
   "cell_type": "markdown",
   "metadata": {},
   "source": [
    "| Character class | Matches |\n",
    "| --- | --- |\n",
    "| `\\d` | Any digit (0–9).\n",
    "| `\\D` | Any character that is _not_ a digit.\n",
    "| `\\s` | Any whitespace character (such as spaces, tabs and newlines).\n",
    "| `\\S` | Any character that is _not_ a whitespace character.\n",
    "| `\\w` | Any **word character** (also called an **alphanumeric character**)—that is, any uppercase or lowercase letter, any digit or an underscore\n",
    "| `\\W` | Any character that is _not_ a word character."
   ]
  },
  {
   "cell_type": "markdown",
   "metadata": {},
   "source": [
    "### Custom Character Classes Are Defined in `[]`\n",
    "* `[aeiou]` matches a lowercase vowel\n",
    "* `[A-Z]` matches an uppercase letter\n",
    "* `[a-z]` matches a lowercase letter \n",
    "* `[a-zA-Z]` matches any lowercase or uppercase letter. "
   ]
  },
  {
   "cell_type": "markdown",
   "metadata": {},
   "source": [
    "### Quantifiers \n",
    "* **`*` quantifier** matches **zero or more occurrences** of the subexpression to its left (**`[a-z]`**)* **`+` quantifier** is like `*` but matches **at least one occurrence** of a subexpression.\n",
    "* **`?`** quantifier matches **zero or one occurrences** of a subexpression.\n",
    "* **`{n,}`** quantifier matches **at least _n_ occurrences** of a subexpression. \n",
    "* **`{n,m}`** quantifier matches **between *n* and _m_ (inclusive) occurrences** of a subexpression."
   ]
  },
  {
   "cell_type": "markdown",
   "metadata": {},
   "source": [
    "## 8.12.2 Replacing Substrings and Splitting Strings"
   ]
  },
  {
   "cell_type": "markdown",
   "metadata": {},
   "source": [
    "### Function `sub`—Replacing **All** Occurrences of a Pattern\n",
    "* Three arguments&mdash;**pattern to match**, **replacement text** and **string to search**."
   ]
  },
  {
   "cell_type": "code",
   "execution_count": null,
   "metadata": {},
   "outputs": [],
   "source": [
    "re.sub('\\t', ', ', '1\\t2\\t3\\t4')  # replace tabs with ', '"
   ]
  },
  {
   "cell_type": "markdown",
   "metadata": {},
   "source": [
    "### Function `split`—Tokenizing a String Using a Regex to Specify the Delimiter"
   ]
  },
  {
   "cell_type": "code",
   "execution_count": null,
   "metadata": {},
   "outputs": [],
   "source": [
    "# split at any number of whitespace characters\n",
    "re.split(r',\\s*', '1,  2,  3,4,    5,6,7,8')"
   ]
  },
  {
   "cell_type": "markdown",
   "metadata": {},
   "source": [
    "## 8.12.3 Other Search Functions; Accessing Matches"
   ]
  },
  {
   "cell_type": "markdown",
   "metadata": {},
   "source": [
    "### Function `search`—Finding the First Match Anywhere in a String\n",
    "* Returns a **match object** (of type **`SRE_Match`**) that contains the matching substring. \n",
    "* The match object’s **`group`** method returns matching substring."
   ]
  },
  {
   "cell_type": "code",
   "execution_count": null,
   "metadata": {},
   "outputs": [],
   "source": [
    "result = re.search(r'\\w{6}', 'Python is fun')"
   ]
  },
  {
   "cell_type": "code",
   "execution_count": null,
   "metadata": {},
   "outputs": [],
   "source": [
    "result.group() if result else 'not found'"
   ]
  },
  {
   "cell_type": "markdown",
   "metadata": {},
   "source": [
    "* Can search for a match only at the **beginning of a string** with function **`match`**. \n",
    "* `search` returns `None` if the string does **not** contain the pattern: "
   ]
  },
  {
   "cell_type": "code",
   "execution_count": null,
   "metadata": {},
   "outputs": [],
   "source": [
    "result2 = re.search('fun!', 'Python is fun')"
   ]
  },
  {
   "cell_type": "code",
   "execution_count": null,
   "metadata": {},
   "outputs": [],
   "source": [
    "result2.group() if result2 else 'not found'"
   ]
  },
  {
   "cell_type": "markdown",
   "metadata": {},
   "source": [
    "### Ignoring Case with `flags=re.IGNORECASE` \n",
    "* Matches are **case sensitive** by default.\n",
    "* Many `re` module functions receive an **optional `flags` keyword argument** that changes how regular expressions are matched. "
   ]
  },
  {
   "cell_type": "code",
   "execution_count": null,
   "metadata": {},
   "outputs": [],
   "source": [
    "result3 = re.search('Sam', 'SAM WHITE', flags=re.IGNORECASE)"
   ]
  },
  {
   "cell_type": "code",
   "execution_count": null,
   "metadata": {},
   "outputs": [],
   "source": [
    "result3.group() if result3 else 'not found'"
   ]
  },
  {
   "cell_type": "markdown",
   "metadata": {},
   "source": [
    "### Function `findall` Returns a List of Matching Substrings"
   ]
  },
  {
   "cell_type": "code",
   "execution_count": null,
   "metadata": {},
   "outputs": [],
   "source": [
    "contact = 'Wally White, Home: 555-555-1234, Work: 555-555-4321'"
   ]
  },
  {
   "cell_type": "code",
   "execution_count": null,
   "metadata": {},
   "outputs": [],
   "source": [
    "re.findall(r'\\d{3}-\\d{3}-\\d{4}', contact)"
   ]
  },
  {
   "cell_type": "markdown",
   "metadata": {},
   "source": [
    "### Function `finditer` Returns a **Lazy Iterable** of Match Objects\n",
    "* Can save memory over `findall` because it returns one match at a time."
   ]
  },
  {
   "cell_type": "code",
   "execution_count": null,
   "metadata": {},
   "outputs": [],
   "source": [
    "for phone in re.finditer(r'\\d{3}-\\d{3}-\\d{4}', contact):\n",
    "    print(phone.group())"
   ]
  },
  {
   "cell_type": "markdown",
   "metadata": {},
   "source": [
    "### More Info\n",
    "* See Lesson 8 in [**Python Fundamentals LiveLessons** here on O'Reilly Online Learning](https://learning.oreilly.com/videos/python-fundamentals/9780135917411)\n",
    "* See Chapter 8 in [**Python for Programmers** on O'Reilly Online Learning](https://learning.oreilly.com/library/view/python-for-programmers/9780135231364/)\n",
    "* Interested in a print book? Check out:\n",
    "\n",
    "| Python for Programmers | Intro to Python for Computer<br>Science and Data Science\n",
    "| :------ | :------\n",
    "| <a href=\"https://amzn.to/2VvdnxE\"><img alt=\"Python for Programmers cover\" src=\"../images/PyFPCover.png\" width=\"150\" border=\"1\"/></a> | <a href=\"https://amzn.to/2LiDCmt\"><img alt=\"Intro to Python for Computer Science and Data Science: Learning to Program with AI, Big Data and the Cloud\" src=\"../images/IntroToPythonCover.png\" width=\"159\" border=\"1\"></a>\n",
    "\n",
    ">Please **do not** purchase both books&mdash;_Python for Programmers_ is a subset of _Intro to Python for Computer Science and Data Science_"
   ]
  },
  {
   "cell_type": "markdown",
   "metadata": {
    "tags": []
   },
   "source": [
    "&copy; 2025 by Pearson Education, Inc. All Rights Reserved. The content in this notebook is based on the textbook [**Intro Python for Computer Science and Data Science**](https://amzn.to/2YU0QTJ) and our professional book [**Python for Programmers**](https://amzn.to/2VvdnxE) — Please do not purchase both. The professional book is a subset of the textbook."
   ]
  }
 ],
 "metadata": {
  "kernelspec": {
   "display_name": "Python 3 (ipykernel)",
   "language": "python",
   "name": "python3"
  },
  "language_info": {
   "codemirror_mode": {
    "name": "ipython",
    "version": 3
   },
   "file_extension": ".py",
   "mimetype": "text/x-python",
   "name": "python",
   "nbconvert_exporter": "python",
   "pygments_lexer": "ipython3",
   "version": "3.13.5"
  }
 },
 "nbformat": 4,
 "nbformat_minor": 4
}
