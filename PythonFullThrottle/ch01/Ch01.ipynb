{
 "cells": [
  {
   "cell_type": "code",
   "execution_count": 1,
   "metadata": {
    "jupyter": {
     "source_hidden": true
    },
    "tags": []
   },
   "outputs": [
    {
     "data": {
      "text/html": [
       "<!-- CSS settings for this notbook -->\n",
       "<style>\n",
       "    h1 {color:#03A}\n",
       "    h2 {color:purple}\n",
       "    h3 {color:#0099ff}\n",
       "    hr {    \n",
       "        border: 0;\n",
       "        height: 3px;\n",
       "        background: #333;\n",
       "        background-image: linear-gradient(to right, #ccc, black, #ccc);\n",
       "    }\n",
       "</style>\n"
      ],
      "text/plain": [
       "<IPython.core.display.HTML object>"
      ]
     },
     "metadata": {},
     "output_type": "display_data"
    }
   ],
   "source": [
    "%%html\n",
    "<!-- CSS settings for this notbook -->\n",
    "<style>\n",
    "    h1 {color:#03A}\n",
    "    h2 {color:purple}\n",
    "    h3 {color:#0099ff}\n",
    "    hr {    \n",
    "        border: 0;\n",
    "        height: 3px;\n",
    "        background: #333;\n",
    "        background-image: linear-gradient(to right, #ccc, black, #ccc);\n",
    "    }\n",
    "</style>"
   ]
  },
  {
   "cell_type": "markdown",
   "metadata": {
    "tags": []
   },
   "source": [
    "&copy; 2025 by Pearson Education, Inc. All Rights Reserved. The content in this notebook is based on the textbook [**Intro Python for Computer Science and Data Science**](https://amzn.to/2YU0QTJ) and our professional book [**Python for Programmers**](https://amzn.to/2VvdnxE) — Please do not purchase both. The professional book is a subset of the textbook."
   ]
  },
  {
   "cell_type": "markdown",
   "metadata": {},
   "source": [
    "### Python Fundamentals LiveLessons Videos\n",
    "* For a detailed presentation of the content in this notebook see **[Lesson 1](https://learning.oreilly.com/videos/python-fundamentals/9780135917411/9780135917411-PFLL_Lesson01_00)** on O'Reilly Online Learning"
   ]
  },
  {
   "cell_type": "markdown",
   "metadata": {},
   "source": [
    "# 1. Introduction "
   ]
  },
  {
   "cell_type": "markdown",
   "metadata": {
    "jp-MarkdownHeadingCollapsed": true,
    "tags": []
   },
   "source": [
    "# Just a Few Reasons Why Python Is Popular\n",
    "* Massive open-source community\n",
    "* Easy to read/learn\n",
    "* General purpose\n",
    "* Procedural, functional-style and object-oriented paradigms\n",
    "* **Educational and scientific computing**\n",
    "* **Most popular data-science programming language** (surpassed R a few years ago)\n",
    "* **Enhances productivity** with extensive standard and third-party open-source libraries\n",
    "* **Extensive job market** for Python programmers across many disciplines"
   ]
  },
  {
   "cell_type": "markdown",
   "metadata": {},
   "source": [
    "# It’s the Libraries!\n",
    "* The wide range of libraries enable you to **accomplish substantial tasks in just a few lines of code**. "
   ]
  },
  {
   "cell_type": "markdown",
   "metadata": {},
   "source": [
    "## Python Standard Library"
   ]
  },
  {
   "cell_type": "markdown",
   "metadata": {},
   "source": [
    "| Some of the Python Standard Library modules we use in our books and videos |\n",
    "| :-------------------- |\n",
    "| **`collections`** — Additional data structures beyond lists, tuples, dictionaries and sets. |\n",
    "| **`csv`** — Processing comma-separated value files. |\n",
    "| **`datetime`**, **`time`** — Date and time manipulations.  |\n",
    "| **`decimal`** — Fixed-point and floating-point arithmetic, including monetary calculations. |\n",
    "| **`doctest`** — Simple unit testing via validation tests and expected results embedded in docstrings.  |\n",
    "| **`json`** — JavaScript Object Notation (JSON) processing for use with web services and NoSQL document databases. |\n",
    "| **`math`** — Common math constants and operations. |\n",
    "| **`os`** — Interacting with the operating system. |\n",
    "| **`queue`** — First-in, first-out data structure. |\n",
    "| **`random`** — Pseudorandom numbers. |\n",
    "| **`re`** — Regular expressions for pattern matching. |\n",
    "| **`sqlite3`** — SQLite relational database access. |\n",
    "| **`statistics`** — Mathematical statistics functions like `mean`, `median`, `mode` and `variance`. |\n",
    "| **`string`** — String processing. |\n",
    "| **`sys`** — Command-line argument processing; standard input, standard output and standard error streams. |\n",
    "| **`timeit`** — Performance analysis. |"
   ]
  },
  {
   "cell_type": "markdown",
   "metadata": {},
   "source": [
    "## Data-Science Libraries \n",
    "* We touch on a couple of these today and most of them in my [**Python Data Science Full Throttle**](https://learning.oreilly.com/live-training/courses/python-data-science-full-throttle-with-paul-deitel-introductory-ai-big-data-and-cloud-case-studies/0636920289173/) live training. "
   ]
  },
  {
   "cell_type": "markdown",
   "metadata": {},
   "source": [
    "| Popular Python libraries used in data science |\n",
    "| :---------------------- |\n",
    "| **_Scientific Computing and Statistics_** |\n",
    "| **NumPy** (Numerical Python)—Python does not have a built-in array data structure. It uses lists, which are convenient but relatively slow. NumPy provides the high-performance `ndarray` data structure to represent lists and matrices, and it also provides routines for processing such data structures.  |\n",
    "| **SciPy** (Scientific Python)—Built on NumPy, SciPy adds routines for scientific processing, such as integrals, differential equations, additional matrix processing and more. `scipy.org` controls SciPy and NumPy.  |\n",
    "| |\n",
    "| **Data Manipulation and Analysis** |\n",
    "| **Pandas**—An extremely popular library for data manipulations. Pandas makes abundant use of NumPy’s `ndarray`. Its two key data structures are `Series` (one dimensional) and `DataFrames` (two dimensional).   |\n",
    "| |\n",
    "| **_Visualization_** |\n",
    "| **Matplotlib**—A highly customizable visualization and plotting library. Supported plots include regular, scatter, bar, contour, pie, quiver, grid, polar axis, 3D and text. |\n",
    "| **Seaborn**—A higher-level visualization library built on Matplotlib. Seaborn adds a nicer look-and-feel, additional visualizations and enables you to create visualizations with less code.    |\n",
    "| |\n",
    "| **_Machine Learning, Deep Learning and Reinforcement Learning_** |\n",
    "| **scikit-learn**—Top machine-learning library. Machine learning is a subset of AI. Deep learning is a subset of machine learning that focuses on neural networks.  |\n",
    "| **Keras**—One of the easiest to use deep-learning libraries. Keras runs on top of TensorFlow (Google). |\n",
    "|  |\n",
    "| **_Natural Language Processing (NLP)_** |\n",
    "| **NLTK** (Natural Language Toolkit)—Used for natural language processing (NLP) tasks. |\n",
    "| **TextBlob**—An object-oriented NLP text-processing library built on the NLTK and pattern NLP libraries. TextBlob simplifies many NLP tasks. |"
   ]
  },
  {
   "cell_type": "markdown",
   "metadata": {},
   "source": [
    "# More Info \n",
    "* See Lesson 1 in [**Python Fundamentals LiveLessons** here on O'Reilly Online Learning](https://learning.oreilly.com/videos/python-fundamentals/9780135917411)\n",
    "* See Chapter 1 in [**Python for Programmers** on O'Reilly Online Learning](https://learning.oreilly.com/library/view/python-for-programmers/9780135231364/)\n",
    "* Interested in a print book? Check out:\n",
    "\n",
    "| Python for Programmers | Intro to Python for Computer<br>Science and Data Science\n",
    "| :------ | :------\n",
    "| <a href=\"https://amzn.to/2VvdnxE\"><img alt=\"Python for Programmers cover\" src=\"../images/PyFPCover.png\" width=\"150\" border=\"1\"/></a> | <a href=\"https://amzn.to/2LiDCmt\"><img alt=\"Intro to Python for Computer Science and Data Science: Learning to Program with AI, Big Data and the Cloud\" src=\"../images/IntroToPythonCover.png\" width=\"159\" border=\"1\"></a>\n",
    "\n",
    ">Please **do not** purchase both books&mdash;_Python for Programmers_ is a subset of _Intro to Python for Computer Science and Data Science_"
   ]
  },
  {
   "cell_type": "markdown",
   "metadata": {
    "tags": []
   },
   "source": [
    "&copy; 2025 by Pearson Education, Inc. All Rights Reserved. The content in this notebook is based on the textbook [**Intro Python for Computer Science and Data Science**](https://amzn.to/2YU0QTJ) and our professional book [**Python for Programmers**](https://amzn.to/2VvdnxE) — Please do not purchase both. The professional book is a subset of the textbook."
   ]
  }
 ],
 "metadata": {
  "kernelspec": {
   "display_name": "Python 3 (ipykernel)",
   "language": "python",
   "name": "python3"
  },
  "language_info": {
   "codemirror_mode": {
    "name": "ipython",
    "version": 3
   },
   "file_extension": ".py",
   "mimetype": "text/x-python",
   "name": "python",
   "nbconvert_exporter": "python",
   "pygments_lexer": "ipython3",
   "version": "3.12.2"
  }
 },
 "nbformat": 4,
 "nbformat_minor": 4
}
